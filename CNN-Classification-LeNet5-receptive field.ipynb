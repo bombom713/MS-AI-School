{
 "cells": [
  {
   "cell_type": "code",
   "execution_count": 1,
   "id": "296003b4",
   "metadata": {},
   "outputs": [],
   "source": [
    "import torch\n",
    "import torch.nn as nn \n",
    "import torch.optim as optim\n",
    "import torchvision\n",
    "import torchvision.transforms as transforms"
   ]
  },
  {
   "cell_type": "code",
   "execution_count": 2,
   "id": "934b18dc",
   "metadata": {},
   "outputs": [
    {
     "name": "stdout",
     "output_type": "stream",
     "text": [
      "Files already downloaded and verified\n",
      "Files already downloaded and verified\n"
     ]
    }
   ],
   "source": [
    "transform = transforms.Compose([transforms.ToTensor(), transforms.Normalize((0.5,0.5,0.5), (0.5,0.5,0.5))])\n",
    "\n",
    "trainset = torchvision.datasets.CIFAR10(root=\"./data\", train=True, download=True, transform=transform)\n",
    "trainloader = torch.utils.data.DataLoader(trainset, batch_size=64, shuffle=True)\n",
    "\n",
    "testset = torchvision.datasets.CIFAR10(root=\"./data\", train=False, download=True, transform=transform)\n",
    "testloader = torch.utils.data.DataLoader(testset, batch_size=64, shuffle=False)"
   ]
  },
  {
   "cell_type": "code",
   "execution_count": 3,
   "id": "22bb32e0",
   "metadata": {},
   "outputs": [],
   "source": [
    "class RFNet(nn.Module) : \n",
    "    def __init__(self): \n",
    "        super(RFNet, self).__init__() \n",
    "        self.conv1 = nn.Conv2d(3, 32, 3)\n",
    "        self.pool = nn.MaxPool2d(2,2)\n",
    "        self.conv2 = nn.Conv2d(32, 64, 3) \n",
    "        self.fc1 = nn.Linear(64 * 6 * 6 , 64)\n",
    "        self.fc2 = nn.Linear(64, 10)\n",
    "        \n",
    "    def forward(self, x) : \n",
    "        x = self.pool(torch.relu(self.conv1(x)))\n",
    "        x = self.pool(torch.relu(self.conv2(x)))\n",
    "        x = torch.flatten(x, 1) \n",
    "        x = torch.relu(self.fc1(x))\n",
    "        x = self.fc2(x)\n",
    "        \n",
    "        return x "
   ]
  },
  {
   "cell_type": "code",
   "execution_count": 4,
   "id": "342ef1da",
   "metadata": {},
   "outputs": [],
   "source": [
    "def train_and_evaluate(model) : \n",
    "    criterion = nn.CrossEntropyLoss()\n",
    "    optimizer = optim.SGD(model.parameters(), lr=0.001, momentum=0.9)\n",
    "    \n",
    "    for epoch in range(5) : \n",
    "        runing_loss = 0.0 \n",
    "        for i, data in enumerate(trainloader, 0) : \n",
    "            inputs, labels = data\n",
    "            optimizer.zero_grad()\n",
    "            outputs = model(inputs)\n",
    "            loss = criterion(outputs, labels)\n",
    "            loss.backward()\n",
    "            optimizer.step()\n",
    "            \n",
    "            runing_loss += loss.item()\n",
    "            if i % 200 == 190 : \n",
    "                print('[%d, %5d] loss : %.3f' % (epoch + 1, i+1, runing_loss / 200))\n",
    "                runing_loss = 0.0\n",
    "                \n",
    "    print(\"Finshed Training ....\")\n",
    "     \n",
    "    correct = 0\n",
    "    total = 0 \n",
    "    with torch.no_grad():\n",
    "        for data in testloader : \n",
    "            images, labels = data\n",
    "            outputs = model(images)\n",
    "            _, predicted = torch.max(outputs.data, 1)\n",
    "            total += labels.size(0)\n",
    "            correct += (predicted == labels).sum().item()\n",
    "            \n",
    "    accuracy = 100 * correct / total\n",
    "    print(\"Accuracy: %.2f %%\"% accuracy)"
   ]
  },
  {
   "cell_type": "code",
   "execution_count": 5,
   "id": "2ff2a313",
   "metadata": {},
   "outputs": [
    {
     "name": "stdout",
     "output_type": "stream",
     "text": [
      "RFNet:\n",
      "[1,   191] loss : 2.191\n",
      "[1,   391] loss : 2.240\n",
      "[1,   591] loss : 2.097\n",
      "[2,   191] loss : 1.805\n",
      "[2,   391] loss : 1.823\n",
      "[2,   591] loss : 1.763\n",
      "[3,   191] loss : 1.546\n",
      "[3,   391] loss : 1.575\n",
      "[3,   591] loss : 1.532\n",
      "[4,   191] loss : 1.399\n",
      "[4,   391] loss : 1.449\n",
      "[4,   591] loss : 1.425\n",
      "[5,   191] loss : 1.322\n",
      "[5,   391] loss : 1.343\n",
      "[5,   591] loss : 1.355\n",
      "Finshed Training ....\n",
      "Accuracy: 52.34 %\n",
      "Number of parameters:\n",
      "RFNet: 167562\n"
     ]
    }
   ],
   "source": [
    "print(\"RFNet:\")\n",
    "rf_model = RFNet()\n",
    "train_and_evaluate(rf_model)\n",
    "\n",
    "print(\"Number of parameters:\")\n",
    "print(\"RFNet:\", sum(p.numel() for p in rf_model.parameters()))"
   ]
  },
  {
   "cell_type": "code",
   "execution_count": null,
   "id": "9db8f2c2",
   "metadata": {},
   "outputs": [],
   "source": []
  }
 ],
 "metadata": {
  "kernelspec": {
   "display_name": "Python 3 (ipykernel)",
   "language": "python",
   "name": "python3"
  },
  "language_info": {
   "codemirror_mode": {
    "name": "ipython",
    "version": 3
   },
   "file_extension": ".py",
   "mimetype": "text/x-python",
   "name": "python",
   "nbconvert_exporter": "python",
   "pygments_lexer": "ipython3",
   "version": "3.10.12"
  }
 },
 "nbformat": 4,
 "nbformat_minor": 5
}
