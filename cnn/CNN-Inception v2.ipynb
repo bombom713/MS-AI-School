{
 "cells": [
  {
   "cell_type": "code",
   "execution_count": 1,
   "id": "842e6c88",
   "metadata": {},
   "outputs": [],
   "source": [
    "import torch\n",
    "import torch.nn as nn \n",
    "import torch.nn.functional as F"
   ]
  },
  {
   "cell_type": "markdown",
   "id": "cd4c3ed9",
   "metadata": {},
   "source": [
    "### Inception Model 블록 구조 "
   ]
  },
  {
   "cell_type": "code",
   "execution_count": 2,
   "id": "bf90d906",
   "metadata": {},
   "outputs": [],
   "source": [
    "class InceptionModule(nn.Module) : \n",
    "    \n",
    "    def __init__(self, in_channels, out_1x1, reduce_3x3, out_3x3, reduce_5x5, out_5x5, out_pool) : \n",
    "        super(InceptionModule, self).__init__()\n",
    "        \n",
    "        self.conv1x1 = nn.Conv2d(in_channels, out_1x1, kernel_size=1)\n",
    "        self.conv3x3_reduce = nn.Conv2d(in_channels, reduce_3x3, kernel_size=1) \n",
    "        self.conv3x3 = nn.Conv2d(reduce_3x3, out_3x3, kernel_size=3, padding=1)\n",
    "\n",
    "        self.conv5x5_reduce = nn.Conv2d(in_channels, reduce_5x5, kernel_size=1)\n",
    "        self.conv5x5 = nn.Conv2d(reduce_5x5, out_5x5, kernel_size=5, padding=2)\n",
    "        \n",
    "        self.pool = nn.MaxPool2d(kernel_size=3, stride=1, padding=1)\n",
    "        self.conv_pool = nn.Conv2d(in_channels, out_pool, kernel_size=1)\n",
    "        \n",
    "    def forward(self, x) : \n",
    "        out_1x1 = F.relu(self.conv1x1(x))\n",
    "        out_3x3 = F.relu(self.conv3x3(F.relu(self.conv3x3_reduce(x))))\n",
    "        out_5x5 = F.relu(self.conv5x5(F.relu(self.conv5x5_reduce(x))))\n",
    "\n",
    "        out_pool = F.relu(self.conv_pool(self.pool(x)))\n",
    "        \n",
    "        out = torch.cat([out_1x1, out_3x3, out_5x5, out_pool], dim=1)\n",
    "        \n",
    "        return out"
   ]
  },
  {
   "cell_type": "markdown",
   "id": "e3bf796d",
   "metadata": {},
   "source": [
    "### Inception 모델 정의 "
   ]
  },
  {
   "cell_type": "code",
   "execution_count": 4,
   "id": "7a23b710",
   "metadata": {},
   "outputs": [],
   "source": [
    "class InceptionV2(nn.Module) : \n",
    "    def __init__(self, num_classes=1000) : \n",
    "        super(InceptionV2, self).__init__()\n",
    "        \n",
    "        self.stem = nn.Sequential(\n",
    "            nn.Conv2d(3, 64, kernel_size=7, stride=2, padding=3),\n",
    "            nn.ReLU(inplace=True),\n",
    "            nn.MaxPool2d(kernel_size=3, stride=2, padding=1)\n",
    "        )\n",
    "               \n",
    "        self.inception3a = InceptionModule(64, 64, 96, 128, 16, 32, 32)\n",
    "        self.inception3b = InceptionModule(256, 128, 128, 192, 32, 96, 64)\n",
    "        self.inception4a = InceptionModule(480, 192, 96, 208, 16, 48, 64)\n",
    "        self.inception4b = InceptionModule(512, 160, 112, 224, 24, 64, 64)\n",
    "        self.inception4c = InceptionModule(512, 128, 128, 256, 24, 64, 64)\n",
    "        self.inception4d = InceptionModule(512, 112, 144, 288, 32, 64, 64)\n",
    "        self.inception4e = InceptionModule(528, 256, 160, 320, 32, 128, 128)\n",
    "        self.inception5a = InceptionModule(832, 256, 160, 320, 32, 128, 128)\n",
    "        self.inception5b = InceptionModule(832, 384, 192, 384, 48, 128, 128)\n",
    "        \n",
    "        self.avg_pool = nn.AdaptiveAvgPool2d((1,1))\n",
    "        self.fc = nn.Linear(1024, num_classes)\n",
    "        \n",
    "    def forward(self, x) : \n",
    "        x = self.stem(x)\n",
    "        x = inception3a(x)\n",
    "        x = inception3b(x)\n",
    "        x = F.max_pool2d(x, kernel_size=3, stride=2, padding=1)\n",
    "        x = inception4a(x)\n",
    "        x = inception4b(x)\n",
    "        x = inception4c(x)\n",
    "        x = inception4d(x)\n",
    "        x = inception4e(x)\n",
    "        x = F.max_pool2d(x, kernel_size=3, stride=2, padding=1)\n",
    "        x = inception5a(x)\n",
    "        x = inception5b(x)\n",
    "        x = self.avg_pool(x)\n",
    "        x = torch.flatten(x, 1)\n",
    "        x = self.fc(x)\n",
    "        \n",
    "        return x"
   ]
  },
  {
   "cell_type": "code",
   "execution_count": null,
   "id": "363948bf",
   "metadata": {},
   "outputs": [],
   "source": []
  }
 ],
 "metadata": {
  "kernelspec": {
   "display_name": "Python 3 (ipykernel)",
   "language": "python",
   "name": "python3"
  },
  "language_info": {
   "codemirror_mode": {
    "name": "ipython",
    "version": 3
   },
   "file_extension": ".py",
   "mimetype": "text/x-python",
   "name": "python",
   "nbconvert_exporter": "python",
   "pygments_lexer": "ipython3",
   "version": "3.11.5"
  }
 },
 "nbformat": 4,
 "nbformat_minor": 5
}
