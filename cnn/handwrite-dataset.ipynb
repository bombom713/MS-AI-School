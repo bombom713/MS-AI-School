{
 "cells": [
  {
   "cell_type": "markdown",
   "id": "32c5be26",
   "metadata": {},
   "source": [
    "# dataset"
   ]
  },
  {
   "cell_type": "code",
   "execution_count": 1,
   "id": "d013167d",
   "metadata": {},
   "outputs": [],
   "source": [
    "import torch\n",
    "from torch.utils.data import Dataset\n",
    "import os\n",
    "from PIL import Image\n",
    "import cv2"
   ]
  },
  {
   "cell_type": "code",
   "execution_count": 7,
   "id": "2b837570",
   "metadata": {},
   "outputs": [],
   "source": [
    "class HandWriteDataSet(Dataset):\n",
    "    def __init__(self, img_path, transform=None, mode='train'):\n",
    "        self.img_root = img_path\n",
    "        self.img_dir_list = os.listdir(img_path)\n",
    "        self.transform = transform\n",
    "        self.mode = mode\n",
    "        \n",
    "    def __getitem__(self, idx):\n",
    "        filename = self.img_dir_list[idx]\n",
    "        img = Image.open(os.path.join(self.img_root, filename))\n",
    "        \n",
    "        if len(filename.split(\"_\")) > 1:\n",
    "            label = int(filename.split(\"_\")[-1].split(\".\")[0])\n",
    "            \n",
    "        else:\n",
    "            label = int(filename.split(\".\")[0][-1])\n",
    "            \n",
    "        if self.transform is not None:\n",
    "            img = self.transform(img)\n",
    "            \n",
    "        return img, label\n",
    "    \n",
    "    def __len__(self):\n",
    "        return len(self.img_dir_list)"
   ]
  },
  {
   "cell_type": "code",
   "execution_count": 8,
   "id": "3f2135d2",
   "metadata": {},
   "outputs": [],
   "source": [
    "if __name__ == \"__main__\":\n",
    "    dset = HandWriteDataSet(\"./handwrite_data\")\n",
    "    for item in dset:\n",
    "        pass"
   ]
  }
 ],
 "metadata": {
  "kernelspec": {
   "display_name": "Python [conda env:base] *",
   "language": "python",
   "name": "conda-base-py"
  },
  "language_info": {
   "codemirror_mode": {
    "name": "ipython",
    "version": 3
   },
   "file_extension": ".py",
   "mimetype": "text/x-python",
   "name": "python",
   "nbconvert_exporter": "python",
   "pygments_lexer": "ipython3",
   "version": "3.12.7"
  }
 },
 "nbformat": 4,
 "nbformat_minor": 5
}
