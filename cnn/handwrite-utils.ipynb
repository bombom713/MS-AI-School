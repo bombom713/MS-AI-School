{
 "cells": [
  {
   "cell_type": "markdown",
   "id": "5181cd9d",
   "metadata": {},
   "source": [
    "# utils"
   ]
  },
  {
   "cell_type": "code",
   "execution_count": 1,
   "id": "cdf607fa",
   "metadata": {},
   "outputs": [],
   "source": [
    "import torch\n",
    "import torch.nn as nn\n",
    "import torch.optim as optim\n",
    "from torch.utils.data import DataLoader\n",
    "from torchvision.datasets import MNIST\n",
    "from torchvision import transforms\n",
    "import matplotlib.pyplot as plt\n",
    "from mpl_toolkits.axes_grid1 import make_axes_locatable"
   ]
  },
  {
   "cell_type": "code",
   "execution_count": 2,
   "id": "67b8b7a1",
   "metadata": {},
   "outputs": [],
   "source": [
    "def train(model, train_dataset_len, train_loader, criterion, optimizer, num_epochs, device):\n",
    "    for epoch in range(num_epochs):\n",
    "        model.train()\n",
    "        # 모델을 학습 모드로 설정\n",
    "        running_loss = 0.0\n",
    "        # 트레인 로더를 한번 순회한 오차값\n",
    "        # start_time = time.time()\n",
    "        for images, labels in train_loader:\n",
    "            images = images.to(device)\n",
    "            labels = labels.to(device)\n",
    "            # loader에서 받아온 image와 label을 적절한 장치에 넘김\n",
    "            optimizer.zero_grad() # 그래디언트 초기화\n",
    "\n",
    "            outputs = model(images)\n",
    "            # 모델에 받아온 images를 입력 후 예측값인 outputs를 받아옴\n",
    "\n",
    "            loss = criterion(outputs, labels)\n",
    "            # 실제 정답인 labels와 상기 예측값인 outputs를 손실함수로 대조하여 오차 출력\n",
    "\n",
    "            loss.backward()\n",
    "            optimizer.step()\n",
    "            # 역전파 이후 optimizer가 가중치 업데이트\n",
    "\n",
    "            running_loss += loss.item() * images.size(0)\n",
    "        \n",
    "        epoch_loss = running_loss / train_dataset_len\n",
    "\n",
    "        print(f\"Epoch {epoch+1} / {num_epochs}, Loss : {epoch_loss:.4f}\")\n",
    "        # Epoch 순회마다 발생한 loss 출력"
   ]
  },
  {
   "cell_type": "code",
   "execution_count": 3,
   "id": "fd03a963",
   "metadata": {},
   "outputs": [],
   "source": [
    "def eval(model, test_loader, device):\n",
    "    model.eval()\n",
    "    correct = 0\n",
    "    total = 0\n",
    "\n",
    "    with torch.no_grad():\n",
    "        for images, labels in test_loader:\n",
    "            images = images.to(device)\n",
    "            labels = labels.to(device)\n",
    "\n",
    "            outputs = model(images)\n",
    "            _, predicted = torch.max(outputs.data, 1)\n",
    "\n",
    "            total += labels.size(0)\n",
    "            correct += (predicted == labels).sum().item()\n",
    "\n",
    "    accuracy = (correct / total) * 100\n",
    "    print(f\"Test Accuracy: {accuracy:.2f} %\")"
   ]
  }
 ],
 "metadata": {
  "kernelspec": {
   "display_name": "Python [conda env:base] *",
   "language": "python",
   "name": "conda-base-py"
  },
  "language_info": {
   "codemirror_mode": {
    "name": "ipython",
    "version": 3
   },
   "file_extension": ".py",
   "mimetype": "text/x-python",
   "name": "python",
   "nbconvert_exporter": "python",
   "pygments_lexer": "ipython3",
   "version": "3.12.7"
  }
 },
 "nbformat": 4,
 "nbformat_minor": 5
}
