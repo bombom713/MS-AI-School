{
 "cells": [
  {
   "cell_type": "code",
   "execution_count": null,
   "id": "eb1d63ec",
   "metadata": {},
   "outputs": [],
   "source": [
    "import torch\n",
    "import torch.nn as nn\n",
    "from torch.utils.data import DataLoader, random_split\n",
    "from handwrite_model import CNN\n",
    "from handwrite_dataset import HandWriteDataSet\n",
    "import handwrite_utils as handwrite\n",
    "from torchvision import transforms"
   ]
  },
  {
   "cell_type": "code",
   "execution_count": null,
   "id": "c962af8e",
   "metadata": {},
   "outputs": [],
   "source": [
    "device = torch.device('cuda' if torch.cuda.is_available() else 'cpu')\n",
    "\n",
    "if __name__ == \"__main__\":\n",
    "    model = CNN().to(device)\n",
    "    \n",
    "    transform = transforms.Compose([transforms.Resize([28, 28]), transforms.ToTensor()])\n",
    "    \n",
    "    total_dataset = HandWriteDataSet(Image.open(\"./handwrite_data\").convert(\"RGB\"), transform=transform)\n",
    "\n",
    "    test_len = int(len(total_dataset) * 0.2)\n",
    "    train_len = len(total_dataset) - test_len\n",
    "    \n",
    "    train_subset, test_subset = random_split(total_dataset, [train_len, test_len])\n",
    "    # 첫번째 인자: 나눠야 할 통합 데이터셋\n",
    "    # 두번째 인자: 각각 나눠야 할 갯수(정수 묶음)\n",
    "    \n",
    "    train_dataset = train_subset.dataset\n",
    "    test_dataset = test_subset.dataset\n",
    "    \n",
    "#     temp_dict = dict.fromkeys(list(range(10)), 0)\n",
    "#     for _, label in test_dataset:\n",
    "#         temp_dict[label] += 1\n",
    "\n",
    "#     print(temp_dict)\n",
    "\n",
    "    train_loader = DataLoader(train_dataset, batch_size=64, shuffle=True)\n",
    "    \n",
    "    test_loader = DataLoader(test_dataset, batch_size=64)\n",
    "    \n",
    "    criterion = nn.CrossEntropyLoss()\n",
    "    optimizer = torch.optim.Adam(model.parameters(), lr=0.001)\n",
    "\n",
    "    handwrite.train(model, len(train_dataset), train_loader, criterion, optimizer, 10, device)\n",
    "    \n",
    "    handwrite.eval(model, test_loader, device)"
   ]
  }
 ],
 "metadata": {
  "kernelspec": {
   "display_name": "Python [conda env:base] *",
   "language": "python",
   "name": "conda-base-py"
  },
  "language_info": {
   "codemirror_mode": {
    "name": "ipython",
    "version": 3
   },
   "file_extension": ".py",
   "mimetype": "text/x-python",
   "name": "python",
   "nbconvert_exporter": "python",
   "pygments_lexer": "ipython3",
   "version": "3.12.7"
  }
 },
 "nbformat": 4,
 "nbformat_minor": 5
}
