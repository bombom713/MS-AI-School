{
 "cells": [
  {
   "cell_type": "markdown",
   "id": "4e01cb9c",
   "metadata": {},
   "source": [
    "# 선형 판별 분석 LDA 간단한 실습"
   ]
  },
  {
   "cell_type": "code",
   "execution_count": 1,
   "id": "f1956b16",
   "metadata": {},
   "outputs": [],
   "source": [
    "from sklearn import datasets\n",
    "from sklearn.discriminant_analysis import LinearDiscriminantAnalysis"
   ]
  },
  {
   "cell_type": "code",
   "execution_count": 2,
   "id": "27040387",
   "metadata": {},
   "outputs": [],
   "source": [
    "iris = datasets.load_iris()  #붓꽃 데이터셋을 로드\n",
    "features = iris.data\n",
    "target = iris.target"
   ]
  },
  {
   "cell_type": "code",
   "execution_count": 3,
   "id": "ebd0b544",
   "metadata": {},
   "outputs": [
    {
     "name": "stdout",
     "output_type": "stream",
     "text": [
      "원본 특성 개수  4\n",
      "줄어든 특성 개수  1\n"
     ]
    }
   ],
   "source": [
    "# LDA 객체를 만들고 실행하여 특성을 반환\n",
    "lda = LinearDiscriminantAnalysis(n_components=1)\n",
    "features_lda = lda.fit(features, target).transform(features)\n",
    "\n",
    "print(\"원본 특성 개수 \", features.shape[1])\n",
    "print(\"줄어든 특성 개수 \", features_lda.shape[1])"
   ]
  },
  {
   "cell_type": "code",
   "execution_count": null,
   "id": "62bcec58",
   "metadata": {},
   "outputs": [],
   "source": []
  }
 ],
 "metadata": {
  "kernelspec": {
   "display_name": "Python 3 (ipykernel)",
   "language": "python",
   "name": "python3"
  },
  "language_info": {
   "codemirror_mode": {
    "name": "ipython",
    "version": 3
   },
   "file_extension": ".py",
   "mimetype": "text/x-python",
   "name": "python",
   "nbconvert_exporter": "python",
   "pygments_lexer": "ipython3",
   "version": "3.11.5"
  }
 },
 "nbformat": 4,
 "nbformat_minor": 5
}
