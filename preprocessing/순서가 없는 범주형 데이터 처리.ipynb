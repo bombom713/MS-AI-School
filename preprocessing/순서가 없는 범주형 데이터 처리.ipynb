{
 "cells": [
  {
   "cell_type": "markdown",
   "id": "195358f1",
   "metadata": {},
   "source": [
    "# 사이킷런의 LabelBinarizer를 사용하여 문자열 타깃 데이터 원-핫 인코딩"
   ]
  },
  {
   "cell_type": "markdown",
   "id": "c47f7028",
   "metadata": {},
   "source": [
    "## 싱글 클래스 특성에 대한 처리 방법"
   ]
  },
  {
   "cell_type": "code",
   "execution_count": 2,
   "id": "748863f5",
   "metadata": {},
   "outputs": [],
   "source": [
    "import numpy as np\n",
    "from sklearn.preprocessing import LabelBinarizer, MultiLabelBinarizer"
   ]
  },
  {
   "cell_type": "code",
   "execution_count": 3,
   "id": "92b481fd",
   "metadata": {},
   "outputs": [
    {
     "name": "stdout",
     "output_type": "stream",
     "text": [
      "특성 클래스 확인  ['가나다라' '아바하자' '카나다사']\n"
     ]
    }
   ],
   "source": [
    "feature = np.array(([\"가나다라\"],\n",
    "                   [\"가나다라\"],\n",
    "                   [\"아바하자\"],\n",
    "                   [\"카나다사\"]))\n",
    "one_hot = LabelBinarizer()  # 원-핫 인코더 생성\n",
    "one_hot.fit_transform(feature)  # 특성을 원-핫 인코딩 변환\n",
    "one_hot.classes_  # 특성 클래스 확인\n",
    "\n",
    "print(\"특성 클래스 확인 \", one_hot.classes_)"
   ]
  },
  {
   "cell_type": "code",
   "execution_count": 4,
   "id": "59c11cd0",
   "metadata": {},
   "outputs": [
    {
     "name": "stdout",
     "output_type": "stream",
     "text": [
      "one hot >>  ['가나다라' '가나다라' '아바하자' '카나다사']\n"
     ]
    }
   ],
   "source": [
    "# 데이터를 되돌리는 방법\n",
    "one_hot_data = one_hot.inverse_transform(one_hot.transform(feature))\n",
    "print(\"one hot >> \", one_hot_data)"
   ]
  },
  {
   "cell_type": "markdown",
   "id": "47ce373b",
   "metadata": {},
   "source": [
    "## 다중 클래스 특성에 대한 처리 방법"
   ]
  },
  {
   "cell_type": "code",
   "execution_count": 5,
   "id": "b27b6bfd",
   "metadata": {},
   "outputs": [
    {
     "name": "stdout",
     "output_type": "stream",
     "text": [
      "특성 클래스 확인 >>  ['가나다라마' '아마자나가' '아자바하나' '아카나다하' '자다가나라' '자다나타하']\n"
     ]
    }
   ],
   "source": [
    "multiclass_feature = [(\"가나다라마\", \"아자바하나\"),\n",
    "                     (\"자다가나라\", \"자다나타하\"),\n",
    "                     (\"가나다라마\", \"아자바하나\"),\n",
    "                     (\"아마자나가\", \"아카나다하\"),\n",
    "                     (\"가나다라마\", \"아자바하나\")]\n",
    "one_hot_multiclass = MultiLabelBinarizer()  # 다중 클래스 원-핫 인코더 객체 생성\n",
    "one_hot_multiclass.fit_transform(multiclass_feature)  # 다중 클래스 특성을 원-핫 인코딩 변환\n",
    "one_hot_data = one_hot_multiclass.classes_  # 특성 클래스 확인\n",
    "print(\"특성 클래스 확인 >> \", one_hot_data)"
   ]
  },
  {
   "cell_type": "markdown",
   "id": "7f612f47",
   "metadata": {},
   "source": [
    "## 문자열 타깃 데이터 원-핫 인코딩"
   ]
  },
  {
   "cell_type": "code",
   "execution_count": 6,
   "id": "44cff76a",
   "metadata": {},
   "outputs": [],
   "source": [
    "from sklearn.preprocessing import OneHotEncoder"
   ]
  },
  {
   "cell_type": "code",
   "execution_count": 7,
   "id": "5dd8635a",
   "metadata": {},
   "outputs": [],
   "source": [
    "# 여러 개 열이 있는 특성 배열 생성\n",
    "str_feature = np.array([[\"안녕\", 1],\n",
    "                       [\"저녁\", 3],\n",
    "                       [\"안녕\", 1],\n",
    "                       [\"점심\", 1]])"
   ]
  },
  {
   "cell_type": "code",
   "execution_count": 8,
   "id": "01388264",
   "metadata": {},
   "outputs": [],
   "source": [
    "# 희소배열로 반환이 기본값이며 sparse=False로 지정하면 밀집배열로 전환\n",
    "one_hot_encoder = OneHotEncoder(sparse=False)"
   ]
  },
  {
   "cell_type": "code",
   "execution_count": 9,
   "id": "d77a0f40",
   "metadata": {},
   "outputs": [
    {
     "name": "stdout",
     "output_type": "stream",
     "text": [
      "one hot encoder data >>  [array(['안녕', '저녁', '점심'], dtype='<U11'), array(['1', '3'], dtype='<U11')]\n"
     ]
    },
    {
     "name": "stderr",
     "output_type": "stream",
     "text": [
      "C:\\Users\\bomi\\anaconda3\\envs\\AI\\lib\\site-packages\\sklearn\\preprocessing\\_encoders.py:868: FutureWarning: `sparse` was renamed to `sparse_output` in version 1.2 and will be removed in 1.4. `sparse_output` is ignored unless you leave `sparse` to its default value.\n",
      "  warnings.warn(\n"
     ]
    }
   ],
   "source": [
    "# OneHotencoder -> 입력 특성 배열을 모두 범주형으로 인식\n",
    "one_hot_encoder.fit_transform(str_feature)\n",
    "one_hot_encoder_data = one_hot_encoder.categories_  # categories_ 속성으로 클래스를 확인 가능\n",
    "print(\"one hot encoder data >> \", one_hot_encoder_data)"
   ]
  },
  {
   "cell_type": "markdown",
   "id": "b390db55",
   "metadata": {},
   "source": [
    "## 순서가 있는 범주형 특성 인코딩"
   ]
  },
  {
   "cell_type": "code",
   "execution_count": 10,
   "id": "e69e4237",
   "metadata": {},
   "outputs": [],
   "source": [
    "# 판다스 데이터프레임의 replace()를 사용하여 문자열 레이블을 수치값으로 변환합니다.\n",
    "import pandas as pd"
   ]
  },
  {
   "cell_type": "code",
   "execution_count": 11,
   "id": "99d9008d",
   "metadata": {},
   "outputs": [],
   "source": [
    "# 특성 데이터 생성\n",
    "dataframe = pd.DataFrame({'Score' : [\"Low\", \"Low\", \"Medium\", \"Medium\", \"High\"]})"
   ]
  },
  {
   "cell_type": "code",
   "execution_count": 13,
   "id": "5a7a8455",
   "metadata": {},
   "outputs": [
    {
     "name": "stdout",
     "output_type": "stream",
     "text": [
      "0    1\n",
      "1    1\n",
      "2    2\n",
      "3    2\n",
      "4    3\n",
      "Name: Score, dtype: int64\n"
     ]
    }
   ],
   "source": [
    "# 매핑 딕셔너리 생성\n",
    "scale_mapper = {\"Low\" : 1,\n",
    "               \"Medium\" : 2,\n",
    "               \"High\" : 3}\n",
    "\n",
    "data = dataframe[\"Score\"].replace(scale_mapper)  # 특성을 정수로 변환\n",
    "print(data)"
   ]
  },
  {
   "cell_type": "markdown",
   "id": "ddbc0372",
   "metadata": {},
   "source": [
    "## 순서가 있는 범주형 특성 인코딩 01"
   ]
  },
  {
   "cell_type": "code",
   "execution_count": 14,
   "id": "a5a47ff6",
   "metadata": {},
   "outputs": [],
   "source": [
    "# 범주형 변수를 카테고리 값이 0부터 시작하는 정수 인덱스로 변환\n",
    "from sklearn.preprocessing import OrdinalEncoder"
   ]
  },
  {
   "cell_type": "code",
   "execution_count": 15,
   "id": "a33fb1df",
   "metadata": {},
   "outputs": [
    {
     "name": "stdout",
     "output_type": "stream",
     "text": [
      "Ordinal Encoder >>  [array(['High', 'Low', 'Medium'], dtype='<U11'), array(['10', '3', '50'], dtype='<U11')]\n"
     ]
    }
   ],
   "source": [
    "features_array = np.array([[\"Low\", 10],\n",
    "                          [\"High\", 50],\n",
    "                          [\"Medium\", 3]])\n",
    "\n",
    "ordinal_encoder = OrdinalEncoder()\n",
    "ordinal_encoder.fit_transform(features_array)\n",
    "ordinal_encoder_data = ordinal_encoder.categories_\n",
    "\n",
    "print(\"Ordinal Encoder >> \", ordinal_encoder_data)"
   ]
  },
  {
   "cell_type": "markdown",
   "id": "923a7773",
   "metadata": {},
   "source": [
    "## 순서가 있는 범주형 특성 인코딩 02"
   ]
  },
  {
   "cell_type": "code",
   "execution_count": 17,
   "id": "7b724a47",
   "metadata": {},
   "outputs": [],
   "source": [
    "# 특성 딕셔너리 인코딩\n",
    "from sklearn.feature_extraction import DictVectorizer"
   ]
  },
  {
   "cell_type": "code",
   "execution_count": 22,
   "id": "71414fd0",
   "metadata": {},
   "outputs": [],
   "source": [
    "# 문서에서 단어의 사용 빈도를 나타내는 딕셔너리 정보를 입력받아 BOW 인코딩한 수치 벡터로 변환한다.\n",
    "# 딕셔너리 생성\n",
    "data_dict = [{\"Red\" : 2, \"Blue\" : 4},\n",
    "            {\"Red\" : 4, \"Blue\" : 3},\n",
    "            {\"Red\" : 1, \"Yellow\" : 2},\n",
    "            {\"Red\" : 1, \"Yellow\" : 2}]"
   ]
  },
  {
   "cell_type": "code",
   "execution_count": 23,
   "id": "e77865f4",
   "metadata": {},
   "outputs": [
    {
     "name": "stdout",
     "output_type": "stream",
     "text": [
      "[[4. 2. 0.]\n",
      " [3. 4. 0.]\n",
      " [0. 1. 2.]\n",
      " [0. 1. 2.]]\n"
     ]
    }
   ],
   "source": [
    "# DictVectorizer 객체 생성\n",
    "dictvectorizer = DictVectorizer(sparse=False)\n",
    "\n",
    "features = dictvectorizer.fit_transform(data_dict)  # 데이터를 특성 행렬로 변환\n",
    "print(features)"
   ]
  },
  {
   "cell_type": "code",
   "execution_count": 25,
   "id": "81352c6d",
   "metadata": {},
   "outputs": [
    {
     "name": "stdout",
     "output_type": "stream",
     "text": [
      "['Blue' 'Red' 'Yellow']\n"
     ]
    }
   ],
   "source": [
    "feature_names = dictvectorizer.get_feature_names_out()\n",
    "print(feature_names)"
   ]
  },
  {
   "cell_type": "code",
   "execution_count": 26,
   "id": "3eb9592e",
   "metadata": {},
   "outputs": [
    {
     "name": "stdout",
     "output_type": "stream",
     "text": [
      "   Blue  Red  Yellow\n",
      "0   4.0  2.0     0.0\n",
      "1   3.0  4.0     0.0\n",
      "2   0.0  1.0     2.0\n",
      "3   0.0  1.0     2.0\n"
     ]
    }
   ],
   "source": [
    "dict_data = pd.DataFrame(features, columns=feature_names)\n",
    "print(dict_data)"
   ]
  },
  {
   "cell_type": "markdown",
   "id": "35cc184c",
   "metadata": {},
   "source": [
    "# 누락된 클래스 값 대처하기 01"
   ]
  },
  {
   "cell_type": "markdown",
   "id": "c24d5105",
   "metadata": {},
   "source": [
    "## 머신러닝 분류 알고리즘을 훈련 -> 누락된 값 예측 (k-최근접 이웃 KNN 사용)"
   ]
  },
  {
   "cell_type": "code",
   "execution_count": 27,
   "id": "10cdbf9d",
   "metadata": {},
   "outputs": [],
   "source": [
    "import numpy as np\n",
    "from sklearn.neighbors import KNeighborsClassifier"
   ]
  },
  {
   "cell_type": "code",
   "execution_count": 28,
   "id": "5229ef44",
   "metadata": {},
   "outputs": [],
   "source": [
    "# 범주형 특성을 가진 특성 행렬 생성\n",
    "x=np.array([[0, 2.10, 1.45],\n",
    "           [1, 1.18, 1.33],\n",
    "           [0, 1.22, 1.27],\n",
    "           [1, -0.20, -1.15]])"
   ]
  },
  {
   "cell_type": "code",
   "execution_count": 31,
   "id": "bf29a320",
   "metadata": {},
   "outputs": [
    {
     "name": "stdout",
     "output_type": "stream",
     "text": [
      "[[ 2.1   1.45]\n",
      " [ 1.18  1.33]\n",
      " [ 1.22  1.27]\n",
      " [-0.2  -1.15]]\n",
      "[0. 1. 0. 1.]\n"
     ]
    }
   ],
   "source": [
    "# 범주형 특성에 누락된 값이 있는 특성 행렬 생성\n",
    "x_with_nan = np.array([[np.nan, 0.87, 1.31],\n",
    "                      [np.nan, -0.67, -0.22]])\n",
    "clf = KNeighborsClassifier(3, weights='distance')  # k = 3, 가장 가까운 이웃을 찾아 거리에 가중치를 부여하여 예측\n",
    "\n",
    "print(x[:,1:])  # 데이터\n",
    "print(x[:,0])  # 라벨"
   ]
  },
  {
   "cell_type": "code",
   "execution_count": 32,
   "id": "7c666b69",
   "metadata": {},
   "outputs": [],
   "source": [
    "train_model = clf.fit(x[:,1:], x[:,0])  # 훈련\n",
    "imputed_values = train_model.predict(x_with_nan[:,1:])  # 누락된 값의 클래스 예측"
   ]
  },
  {
   "cell_type": "code",
   "execution_count": 33,
   "id": "eac3bac2",
   "metadata": {},
   "outputs": [
    {
     "name": "stdout",
     "output_type": "stream",
     "text": [
      "[[ 0.    0.87  1.31]\n",
      " [ 1.   -0.67 -0.22]\n",
      " [ 0.    2.1   1.45]\n",
      " [ 1.    1.18  1.33]\n",
      " [ 0.    1.22  1.27]\n",
      " [ 1.   -0.2  -1.15]]\n"
     ]
    }
   ],
   "source": [
    "# 예측된 클래스와 원본 특성을열로 합칩니다.\n",
    "x_with_imputed = np.hstack((imputed_values.reshape(-1,1), x_with_nan[:,1:]))\n",
    "data = np.vstack((x_with_imputed, x))  # 두 특성 행렬을 연결\n",
    "\n",
    "print(data)"
   ]
  },
  {
   "cell_type": "markdown",
   "id": "04fbfd24",
   "metadata": {},
   "source": [
    "# 누락된 클래스 값 대처하기 02"
   ]
  },
  {
   "cell_type": "markdown",
   "id": "498d1292",
   "metadata": {},
   "source": [
    "## 가장 자주 등장하는 값으로 채우기"
   ]
  },
  {
   "cell_type": "code",
   "execution_count": 34,
   "id": "11f13757",
   "metadata": {},
   "outputs": [],
   "source": [
    "# 두 개의 특성 행렬을 합칩니다.\n",
    "from sklearn.impute import SimpleImputer  # 결측값을 대체"
   ]
  },
  {
   "cell_type": "markdown",
   "id": "168f6745",
   "metadata": {},
   "source": [
    "strategy 들어갈 수 있는 값은 총 3개<br>\n",
    "mean: 결측값을 해당 특성의 평균값으로 대체합니다.<br>\n",
    "median: 결측값을 해당 특성의 중앙값으로 대체합니다.<br>\n",
    "most_frequent: 결측값을 해당 특성에서 가장 자주 등장하는 값으로 대체합니다.\n",
    "    \n",
    "이러한 전략 중 어떤 것을 선택할지는 데이터의 특성과 상황에 따라 다릅니다.\n",
    "일반적으로는 수치형 데이터의 경우 mean이나 median을, 범주형 데이터의 경우 most_frequent를 사용합니다."
   ]
  },
  {
   "cell_type": "code",
   "execution_count": 35,
   "id": "51503fbe",
   "metadata": {},
   "outputs": [
    {
     "name": "stdout",
     "output_type": "stream",
     "text": [
      "[[ 0.    0.87  1.31]\n",
      " [ 0.   -0.67 -0.22]\n",
      " [ 0.    2.1   1.45]\n",
      " [ 1.    1.18  1.33]\n",
      " [ 0.    1.22  1.27]\n",
      " [ 1.   -0.2  -1.15]]\n"
     ]
    }
   ],
   "source": [
    "x_complete = np.vstack((x_with_nan, x))\n",
    "\n",
    "imputer = SimpleImputer(strategy = \"most_frequent\")\n",
    "data_imputer = imputer.fit_transform(x_complete)\n",
    "print(data_imputer)"
   ]
  },
  {
   "cell_type": "code",
   "execution_count": null,
   "id": "55052976",
   "metadata": {},
   "outputs": [],
   "source": []
  }
 ],
 "metadata": {
  "kernelspec": {
   "display_name": "Python 3 (ipykernel)",
   "language": "python",
   "name": "python3"
  },
  "language_info": {
   "codemirror_mode": {
    "name": "ipython",
    "version": 3
   },
   "file_extension": ".py",
   "mimetype": "text/x-python",
   "name": "python",
   "nbconvert_exporter": "python",
   "pygments_lexer": "ipython3",
   "version": "3.11.5"
  }
 },
 "nbformat": 4,
 "nbformat_minor": 5
}
