{
 "cells": [
  {
   "cell_type": "markdown",
   "id": "853c6651",
   "metadata": {},
   "source": [
    "1. 원본 음성에서 MelSpectrogram, STFT, waveshow 이미지 추출 / 구간 : 0초 ~ 10초 사이\n",
    "2. MelSpectrogram, STFT, waveshow 각 이미지에 대해서 Aug 진행(noise, stretch) 이미지 저장\n",
    "3. 원본, Aug 처리된 이미지 비율 유지하면서 255x255 사이즈로 리사이즈 진행"
   ]
  },
  {
   "cell_type": "markdown",
   "id": "03b6f018",
   "metadata": {},
   "source": [
    "- 제외 : 음원 손상됨 >> ./raw_data/jazz/jazz.00054.wav"
   ]
  },
  {
   "cell_type": "markdown",
   "id": "42fc1d58",
   "metadata": {},
   "source": [
    "## 라이브러리"
   ]
  },
  {
   "cell_type": "code",
   "execution_count": 1,
   "id": "3ba66da9",
   "metadata": {},
   "outputs": [],
   "source": [
    "import matplotlib.pyplot as plt\n",
    "import librosa\n",
    "import librosa.display\n",
    "\n",
    "import os\n",
    "import glob\n",
    "import numpy as np\n",
    "\n",
    "from tqdm import tqdm\n",
    "from PIL import Image"
   ]
  },
  {
   "cell_type": "markdown",
   "id": "a250008f",
   "metadata": {},
   "source": [
    "## 1. 폴더 생성"
   ]
  },
  {
   "cell_type": "code",
   "execution_count": 2,
   "id": "8ce9b180",
   "metadata": {},
   "outputs": [],
   "source": [
    "def new_folder(folder_name):\n",
    "    # 1. 제출 데이터\n",
    "    submission_dir = \"./image_extraction_data\"\n",
    "    final_dir = \"./final_data\"\n",
    "    for dir_type in [\"MelSpectrogram\", \"STFT\", \"waveshow\"]:\n",
    "        \n",
    "        ########### 1. 음성 데이터 -> 이미지 저장하는 폴더\n",
    "        os.makedirs(\n",
    "            f\"{submission_dir}/{dir_type}/{folder_name}\", exist_ok=True\n",
    "        )\n",
    "        \n",
    "        ########### 2. 이미지 -> 전처리 완료된 이미지 저장하는 폴더\n",
    "        os.makedirs(\n",
    "            f\"{final_dir}/{dir_type}/{folder_name}\", exist_ok=True\n",
    "        )"
   ]
  },
  {
   "cell_type": "markdown",
   "id": "5a81d881",
   "metadata": {},
   "source": [
    "## 메인코드"
   ]
  },
  {
   "cell_type": "code",
   "execution_count": null,
   "id": "f2ef36d2",
   "metadata": {},
   "outputs": [
    {
     "name": "stderr",
     "output_type": "stream",
     "text": [
      " 56%|███████████████████████████████████████████▊                                  | 562/1000 [00:03<00:02, 152.33it/s]"
     ]
    }
   ],
   "source": [
    "if __name__ == \"__main__\":\n",
    "    \n",
    "    # raw 데이터 가져오기\n",
    "    raw_data_path = \"./raw_data/\"\n",
    "    \n",
    "    \"\"\"\n",
    "    폴더구조\n",
    "    ./raw_data/*/*.wav\n",
    "    \"\"\"\n",
    "    raw_data_path_list = glob.glob(os.path.join(raw_data_path, \"*\", \"*.wav\"))\n",
    "    \n",
    "    \"\"\"\n",
    "    모드와 증강 모드에 따른 처리 함수 호출\n",
    "    모드 3가지 : waveshow, STFT, melspec\n",
    "    aug_mode: org, noise, stretch\n",
    "    \"\"\"\n",
    "    \n",
    "    mode = \"waveshow\"\n",
    "    aug_mode = \"org\"\n",
    "    \n",
    "    for raw_data in tqdm(raw_data_path_list):\n",
    "        if raw_data != './raw_data\\\\jazz\\\\jazz.00054.wav':\n",
    "            data, sr = librosa.load(raw_data)\n",
    "            \n",
    "            #### 폴더 생성 ####\n",
    "            # def new_folder(folder_name)\n",
    "            folder_name = raw_data.split(\"/\")[1]\n",
    "            file_name = raw_data.split(\"/\")[-1]\n",
    "            file_name = file_name.replace(\".wav\",\"\")\n",
    "                                       \n",
    "            new_folder(folder_name)\n",
    "            \n",
    "            ### org : 0 ~ 10초 컷한 이미지 / waveshow : 0 ~ 10초 컷한 이미지\n",
    "            ### melspec : 0 ~ 10초 컷한 이미지 / stft : 0 ~ 10초 컷한 이미지\n",
    "            \n",
    "            \"\"\"\n",
    "            #### 0초 ~ 10초 구간 데이터 추출하기\n",
    "            \"\"\"\n",
    "            start_time = 0\n",
    "            end_time = 10\n",
    "            start_sample = sr * start_time\n",
    "            end_sample = sr * end_time\n",
    "            data_section = data[start_sample : end_sample]"
   ]
  },
  {
   "cell_type": "code",
   "execution_count": null,
   "id": "d38ef58a",
   "metadata": {},
   "outputs": [],
   "source": []
  }
 ],
 "metadata": {
  "kernelspec": {
   "display_name": "Python [conda env:base] *",
   "language": "python",
   "name": "conda-base-py"
  },
  "language_info": {
   "codemirror_mode": {
    "name": "ipython",
    "version": 3
   },
   "file_extension": ".py",
   "mimetype": "text/x-python",
   "name": "python",
   "nbconvert_exporter": "python",
   "pygments_lexer": "ipython3",
   "version": "3.12.7"
  }
 },
 "nbformat": 4,
 "nbformat_minor": 5
}
