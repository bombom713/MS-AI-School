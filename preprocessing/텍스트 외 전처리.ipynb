{
 "cells": [
  {
   "cell_type": "markdown",
   "id": "dfad7cc5",
   "metadata": {},
   "source": [
    "#  문자열을 날짜로 변환"
   ]
  },
  {
   "cell_type": "code",
   "execution_count": 1,
   "id": "7bc96512",
   "metadata": {},
   "outputs": [],
   "source": [
    "import numpy as np\n",
    "import pandas as pd"
   ]
  },
  {
   "cell_type": "code",
   "execution_count": 2,
   "id": "fe638d1c",
   "metadata": {},
   "outputs": [],
   "source": [
    "date_strings = np.array(['03-04-2023 11:35 PM',\n",
    "                        '05-04-2023 11:00 PM',\n",
    "                        '07-04-2023 02:00 AM'])  # 문자열"
   ]
  },
  {
   "cell_type": "code",
   "execution_count": 4,
   "id": "68865148",
   "metadata": {},
   "outputs": [
    {
     "name": "stdout",
     "output_type": "stream",
     "text": [
      "2023-04-03 23:35:00\n",
      "2023-04-05 23:00:00\n",
      "2023-04-07 02:00:00\n"
     ]
    }
   ],
   "source": [
    "# Time Stamp 객체로 변경\n",
    "# 값이 누락되면 에러가 발생함\n",
    "for date in date_strings:\n",
    "    temp = pd.to_datetime(date, format = '%d-%m-%Y %I:%M %p')\n",
    "    # print(temp)\n",
    "    \n",
    "# 값이 누락되도 에러가 발생하지 않음\n",
    "# errors 매개변수 - 오류처리\n",
    "for date in date_strings:\n",
    "    temp_value = pd.to_datetime(date, format = '%d-%m-%Y %I:%M %p', errors='ignore')\n",
    "    print(temp_value)"
   ]
  },
  {
   "cell_type": "markdown",
   "id": "f68686d3",
   "metadata": {},
   "source": [
    "#  시간대 데이터 처리"
   ]
  },
  {
   "cell_type": "code",
   "execution_count": 5,
   "id": "adba7eda",
   "metadata": {},
   "outputs": [],
   "source": [
    "import pandas as pd"
   ]
  },
  {
   "cell_type": "code",
   "execution_count": 6,
   "id": "c9dd9e8e",
   "metadata": {},
   "outputs": [
    {
     "name": "stdout",
     "output_type": "stream",
     "text": [
      "2023-04-20 07:00:00\n"
     ]
    }
   ],
   "source": [
    "pd.Timestamp('2023-01-01 06:00:00', tz='Europe/London')  # datetime 만들기\n",
    "date = pd.Timestamp('2023-04-20 07:00:00')  # datetime 만들기\n",
    "print(date)"
   ]
  },
  {
   "cell_type": "code",
   "execution_count": 7,
   "id": "d40d03c9",
   "metadata": {},
   "outputs": [
    {
     "name": "stdout",
     "output_type": "stream",
     "text": [
      "2023-04-20 07:00:00+01:00\n"
     ]
    }
   ],
   "source": [
    "date_in_london = date.tz_localize('Europe/London')  # 시간대를 지정\n",
    "print(date_in_london)"
   ]
  },
  {
   "cell_type": "code",
   "execution_count": 8,
   "id": "9b681b17",
   "metadata": {},
   "outputs": [
    {
     "data": {
      "text/plain": [
       "Timestamp('2023-04-20 06:00:00+0000', tz='Africa/Abidjan')"
      ]
     },
     "execution_count": 8,
     "metadata": {},
     "output_type": "execute_result"
    }
   ],
   "source": [
    "date_in_london.tz_convert('Africa/Abidjan')  # 시간대를 변환"
   ]
  },
  {
   "cell_type": "code",
   "execution_count": 9,
   "id": "50b83b46",
   "metadata": {},
   "outputs": [
    {
     "name": "stdout",
     "output_type": "stream",
     "text": [
      "0   2023-02-28 00:00:00+00:00\n",
      "1   2023-03-31 00:00:00+00:00\n",
      "2   2023-04-30 00:00:00+00:00\n",
      "dtype: datetime64[ns, Africa/Abidjan]\n"
     ]
    }
   ],
   "source": [
    "# 세 개의 날짜를 만듭니다.\n",
    "dates = pd.Series(pd.date_range('2/2/2023', periods=3, freq='M'))\n",
    "temp = dates.dt.tz_localize('Africa/Abidjan')  # 시간대 지정\n",
    "print(temp)"
   ]
  },
  {
   "cell_type": "markdown",
   "id": "5b5a3fc8",
   "metadata": {},
   "source": [
    "# 시간대 데이터 처리 2"
   ]
  },
  {
   "cell_type": "code",
   "execution_count": 10,
   "id": "36ab488e",
   "metadata": {},
   "outputs": [
    {
     "data": {
      "text/plain": [
       "['Africa/Abidjan', 'Africa/Accra']"
      ]
     },
     "execution_count": 10,
     "metadata": {},
     "output_type": "execute_result"
    }
   ],
   "source": [
    "import pytz\n",
    "from pytz import all_timezones\n",
    "all_timezones[0:2]  # 두 개의 시간대를 확인"
   ]
  },
  {
   "cell_type": "code",
   "execution_count": 11,
   "id": "646c58a3",
   "metadata": {},
   "outputs": [
    {
     "data": {
      "text/plain": [
       "0   2023-02-28 00:00:00+09:00\n",
       "1   2023-03-31 00:00:00+09:00\n",
       "2   2023-04-30 00:00:00+09:00\n",
       "dtype: datetime64[ns, tzfile('ROK')]"
      ]
     },
     "execution_count": 11,
     "metadata": {},
     "output_type": "execute_result"
    }
   ],
   "source": [
    "dates.dt.tz_localize('dateutil/Asia/Seoul')"
   ]
  },
  {
   "cell_type": "code",
   "execution_count": 12,
   "id": "32a17e6f",
   "metadata": {},
   "outputs": [
    {
     "name": "stdout",
     "output_type": "stream",
     "text": [
      "0   2023-02-28 00:00:00+09:00\n",
      "1   2023-03-31 00:00:00+09:00\n",
      "2   2023-04-30 00:00:00+09:00\n",
      "dtype: datetime64[ns, Asia/Seoul]\n"
     ]
    }
   ],
   "source": [
    "tz = pytz.timezone('Asia/Seoul')\n",
    "temp01 = dates.dt.tz_localize(tz)\n",
    "print(temp01)"
   ]
  },
  {
   "cell_type": "markdown",
   "id": "de0fad73",
   "metadata": {},
   "source": [
    "# 날짜와 시간 선택하기"
   ]
  },
  {
   "cell_type": "code",
   "execution_count": 13,
   "id": "1de9154b",
   "metadata": {},
   "outputs": [],
   "source": [
    "import pandas as pd"
   ]
  },
  {
   "cell_type": "code",
   "execution_count": 14,
   "id": "32f68b35",
   "metadata": {},
   "outputs": [],
   "source": [
    "dateframe = pd.DataFrame()\n",
    "# datetime을 만듭니다.\n",
    "dateframe['date'] = pd.date_range('1/1/2023', periods=1000, freq='H')  # periods는 만들 개수"
   ]
  },
  {
   "cell_type": "code",
   "execution_count": 15,
   "id": "267d7902",
   "metadata": {},
   "outputs": [
    {
     "data": {
      "text/html": [
       "<div>\n",
       "<style scoped>\n",
       "    .dataframe tbody tr th:only-of-type {\n",
       "        vertical-align: middle;\n",
       "    }\n",
       "\n",
       "    .dataframe tbody tr th {\n",
       "        vertical-align: top;\n",
       "    }\n",
       "\n",
       "    .dataframe thead th {\n",
       "        text-align: right;\n",
       "    }\n",
       "</style>\n",
       "<table border=\"1\" class=\"dataframe\">\n",
       "  <thead>\n",
       "    <tr style=\"text-align: right;\">\n",
       "      <th></th>\n",
       "      <th>date</th>\n",
       "    </tr>\n",
       "  </thead>\n",
       "  <tbody>\n",
       "    <tr>\n",
       "      <th>2</th>\n",
       "      <td>2023-01-01 02:00:00</td>\n",
       "    </tr>\n",
       "    <tr>\n",
       "      <th>3</th>\n",
       "      <td>2023-01-01 03:00:00</td>\n",
       "    </tr>\n",
       "    <tr>\n",
       "      <th>4</th>\n",
       "      <td>2023-01-01 04:00:00</td>\n",
       "    </tr>\n",
       "  </tbody>\n",
       "</table>\n",
       "</div>"
      ],
      "text/plain": [
       "                 date\n",
       "2 2023-01-01 02:00:00\n",
       "3 2023-01-01 03:00:00\n",
       "4 2023-01-01 04:00:00"
      ]
     },
     "execution_count": 15,
     "metadata": {},
     "output_type": "execute_result"
    }
   ],
   "source": [
    "# 두 datetime 사이의 샘플을 선택합니다.\n",
    "dateframe[(dateframe['date'] > '2023-1-1 01:00:00') &\n",
    "         (dateframe['date'] <= '2023-1-1 04:00:00')]"
   ]
  },
  {
   "cell_type": "code",
   "execution_count": 16,
   "id": "beb9a2c3",
   "metadata": {},
   "outputs": [
    {
     "name": "stdout",
     "output_type": "stream",
     "text": [
      "                                   date\n",
      "date                                   \n",
      "2023-01-01 01:00:00 2023-01-01 01:00:00\n",
      "2023-01-01 02:00:00 2023-01-01 02:00:00\n",
      "2023-01-01 03:00:00 2023-01-01 03:00:00\n",
      "2023-01-01 04:00:00 2023-01-01 04:00:00\n"
     ]
    }
   ],
   "source": [
    "# 새로운 datetime을 만듭니다.\n",
    "dateframe = dateframe.set_index(dateframe['date'])\n",
    "temp = dateframe.loc['2023-1-1 01:00:00' : '2023-1-1 04:00:00']\n",
    "print(temp)"
   ]
  },
  {
   "cell_type": "markdown",
   "id": "eac60c1f",
   "metadata": {},
   "source": [
    "# 날짜 데이터를 여러 특성으로 분할"
   ]
  },
  {
   "cell_type": "code",
   "execution_count": 1,
   "id": "0eac80b0",
   "metadata": {},
   "outputs": [],
   "source": [
    "import pandas as pd"
   ]
  },
  {
   "cell_type": "code",
   "execution_count": 2,
   "id": "c8e7c355",
   "metadata": {},
   "outputs": [],
   "source": [
    "dateframe = pd.DataFrame()"
   ]
  },
  {
   "cell_type": "code",
   "execution_count": 3,
   "id": "55ed9280",
   "metadata": {},
   "outputs": [],
   "source": [
    "# 5개의 날짜를 만듦\n",
    "dateframe['date'] = pd.date_range('1/1/2023', periods=5, freq='w')"
   ]
  },
  {
   "cell_type": "code",
   "execution_count": 4,
   "id": "b8bc1099",
   "metadata": {},
   "outputs": [
    {
     "name": "stdout",
     "output_type": "stream",
     "text": [
      "        date  year  month  day  hour  minute\n",
      "0 2023-01-01  2023      1    1     0       0\n",
      "1 2023-01-08  2023      1    8     0       0\n",
      "2 2023-01-15  2023      1   15     0       0\n"
     ]
    }
   ],
   "source": [
    "# 년, 월, 일, 시, 분에 대한 특성을 만듭니다.\n",
    "dateframe['year'] = dateframe['date'].dt.year\n",
    "dateframe['month'] = dateframe['date'].dt.month\n",
    "dateframe['day'] = dateframe['date'].dt.day\n",
    "dateframe['hour'] = dateframe['date'].dt.hour\n",
    "dateframe['minute'] = dateframe['date'].dt.minute\n",
    "\n",
    "print(dateframe.head(3))  # 3개의 행을 확인"
   ]
  },
  {
   "cell_type": "markdown",
   "id": "6a2179ba",
   "metadata": {},
   "source": [
    "# 날짜 간의 차이 계산"
   ]
  },
  {
   "cell_type": "code",
   "execution_count": 5,
   "id": "190d379e",
   "metadata": {},
   "outputs": [],
   "source": [
    "import pandas as pd"
   ]
  },
  {
   "cell_type": "code",
   "execution_count": 6,
   "id": "1757da58",
   "metadata": {},
   "outputs": [],
   "source": [
    "dateframe = pd.DataFrame()"
   ]
  },
  {
   "cell_type": "code",
   "execution_count": 7,
   "id": "ab53db10",
   "metadata": {},
   "outputs": [
    {
     "name": "stdout",
     "output_type": "stream",
     "text": [
      "0   2023-01-01\n",
      "1   2023-01-04\n",
      "Name: Arrived, dtype: datetime64[ns]\n",
      "0   2023-01-01\n",
      "1   2023-01-06\n",
      "Name: Left, dtype: datetime64[ns]\n"
     ]
    }
   ],
   "source": [
    "# 두 datetime 특성을 만듭니다.\n",
    "dateframe['Arrived'] = [pd.Timestamp('01-01-2023'), pd.Timestamp('01-04-2023')]\n",
    "dateframe['Left'] = [pd.Timestamp('01-01-2023'), pd.Timestamp('01-06-2023')]\n",
    "\n",
    "print(dateframe['Arrived'])\n",
    "print(dateframe['Left'])"
   ]
  },
  {
   "cell_type": "code",
   "execution_count": 8,
   "id": "c088cdf1",
   "metadata": {},
   "outputs": [
    {
     "data": {
      "text/plain": [
       "0   0 days\n",
       "1   2 days\n",
       "dtype: timedelta64[ns]"
      ]
     },
     "execution_count": 8,
     "metadata": {},
     "output_type": "execute_result"
    }
   ],
   "source": [
    "# 특성 사이의 차이를 계산\n",
    "dateframe['Left'] - dateframe['Arrived']"
   ]
  },
  {
   "cell_type": "code",
   "execution_count": 9,
   "id": "42ab0785",
   "metadata": {},
   "outputs": [
    {
     "data": {
      "text/plain": [
       "0    0\n",
       "1    2\n",
       "dtype: int64"
      ]
     },
     "execution_count": 9,
     "metadata": {},
     "output_type": "execute_result"
    }
   ],
   "source": [
    "# 특성 간의 기간을 계산\n",
    "pd.Series(delta.days for delta in (dateframe['Left'] - dateframe['Arrived']))"
   ]
  },
  {
   "cell_type": "markdown",
   "id": "53cecd39",
   "metadata": {},
   "source": [
    "# 시차 특성"
   ]
  },
  {
   "cell_type": "code",
   "execution_count": 10,
   "id": "f1e34bc8",
   "metadata": {},
   "outputs": [],
   "source": [
    "import pandas as pd"
   ]
  },
  {
   "cell_type": "code",
   "execution_count": 11,
   "id": "d9cc1b89",
   "metadata": {},
   "outputs": [],
   "source": [
    "dateframe = pd.DataFrame()\n",
    "\n",
    "# 날짜를 만듭니다.\n",
    "dateframe['dates'] = pd.date_range(\"1/1/2023\", periods=5, freq='D')\n",
    "dateframe['stock_price'] = [1.1, 2.2, 3.3, 4.4, 5.5]"
   ]
  },
  {
   "cell_type": "code",
   "execution_count": 12,
   "id": "35c6211a",
   "metadata": {},
   "outputs": [
    {
     "name": "stdout",
     "output_type": "stream",
     "text": [
      "       dates  stock_price  previous_days_stock_price\n",
      "0 2023-01-01          1.1                        NaN\n",
      "1 2023-01-02          2.2                        1.1\n",
      "2 2023-01-03          3.3                        2.2\n",
      "3 2023-01-04          4.4                        3.3\n",
      "4 2023-01-05          5.5                        4.4\n"
     ]
    }
   ],
   "source": [
    "# 한 행 뒤의 값을 가져옵니다.\n",
    "dateframe[\"previous_days_stock_price\"] = dateframe[\"stock_price\"].shift(1)\n",
    "print(dateframe)"
   ]
  },
  {
   "cell_type": "markdown",
   "id": "0c9c9e52",
   "metadata": {},
   "source": [
    "# 이동 시간 윈도 사용"
   ]
  },
  {
   "cell_type": "code",
   "execution_count": 13,
   "id": "77290090",
   "metadata": {},
   "outputs": [],
   "source": [
    "import pandas as pd"
   ]
  },
  {
   "cell_type": "code",
   "execution_count": 14,
   "id": "bb5d2a18",
   "metadata": {},
   "outputs": [
    {
     "name": "stdout",
     "output_type": "stream",
     "text": [
      "            Stock_Price\n",
      "2023-01-31            1\n",
      "2023-02-28            2\n",
      "2023-03-31            3\n",
      "2023-04-30            4\n",
      "2023-05-31            5\n"
     ]
    }
   ],
   "source": [
    "# datetime 생성\n",
    "time_index = pd.date_range(\"01/01/2023\", periods=5, freq='M')\n",
    "\n",
    "dateframe = pd.DataFrame(index=time_index)\n",
    "dateframe['Stock_Price'] = [1, 2, 3, 4, 5]  # 특성을 생성\n",
    "dateframe.rolling(window=2).mean()  # 이동 평균을 계산\n",
    "dateframe.ewm(alpha=0.5).mean()\n",
    "print(dateframe)"
   ]
  },
  {
   "cell_type": "markdown",
   "id": "8a07797f",
   "metadata": {},
   "source": [
    "# 시계열 데이터에서 누락된 값 처리"
   ]
  },
  {
   "cell_type": "code",
   "execution_count": 15,
   "id": "76f65567",
   "metadata": {},
   "outputs": [],
   "source": [
    "import pandas as pd\n",
    "import numpy as np"
   ]
  },
  {
   "cell_type": "code",
   "execution_count": 16,
   "id": "27ca1e14",
   "metadata": {},
   "outputs": [
    {
     "name": "stdout",
     "output_type": "stream",
     "text": [
      "Empty DataFrame\n",
      "Columns: []\n",
      "Index: [2023-01-31 00:00:00, 2023-02-28 00:00:00, 2023-03-31 00:00:00, 2023-04-30 00:00:00, 2023-05-31 00:00:00]\n"
     ]
    }
   ],
   "source": [
    "time_index = pd.date_range(\"01/01/2023\", periods=5, freq=\"M\")\n",
    "dateframe = pd.DataFrame(index=time_index)\n",
    "\n",
    "print(dateframe)"
   ]
  },
  {
   "cell_type": "code",
   "execution_count": 17,
   "id": "6a557b44",
   "metadata": {},
   "outputs": [
    {
     "name": "stdout",
     "output_type": "stream",
     "text": [
      "            Sales\n",
      "2023-01-31    1.0\n",
      "2023-02-28    2.0\n",
      "2023-03-31    3.0\n",
      "2023-04-30    NaN\n",
      "2023-05-31    5.0\n",
      "            Sales\n",
      "2023-01-31    1.0\n",
      "2023-02-28    2.0\n",
      "2023-03-31    NaN\n",
      "2023-04-30    4.0\n",
      "2023-05-31    5.0\n"
     ]
    }
   ],
   "source": [
    "dateframe['Sales'] = [1.0, 2.0, np.nan, np.nan, 5.0]  #누락값이 있는 특성 생성\n",
    "\n",
    "dateframe.interpolate()  # 누락된 값을 보간\n",
    "dateframe.ffill()  # 앞쪽으로 채우기\n",
    "dateframe.bfill()  # 뒤쪽으로 채우기\n",
    "dateframe.interpolate(method=\"quadratic\")  # 비선형의 경우 보간 방법\n",
    "print(dateframe.interpolate(limit=1, limit_direction=\"forward\"))\n",
    "print(dateframe.interpolate(limit=1, limit_direction=\"backward\"))"
   ]
  },
  {
   "cell_type": "code",
   "execution_count": null,
   "id": "d20e5949",
   "metadata": {},
   "outputs": [],
   "source": []
  }
 ],
 "metadata": {
  "kernelspec": {
   "display_name": "Python 3 (ipykernel)",
   "language": "python",
   "name": "python3"
  },
  "language_info": {
   "codemirror_mode": {
    "name": "ipython",
    "version": 3
   },
   "file_extension": ".py",
   "mimetype": "text/x-python",
   "name": "python",
   "nbconvert_exporter": "python",
   "pygments_lexer": "ipython3",
   "version": "3.11.5"
  }
 },
 "nbformat": 4,
 "nbformat_minor": 5
}
