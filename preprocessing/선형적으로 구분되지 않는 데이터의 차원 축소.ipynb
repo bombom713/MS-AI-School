{
 "cells": [
  {
   "cell_type": "markdown",
   "id": "54657709",
   "metadata": {},
   "source": [
    "#  선형적으로 구분되지 않는 데이터의 차원 축소"
   ]
  },
  {
   "cell_type": "code",
   "execution_count": 1,
   "id": "75d387a9",
   "metadata": {},
   "outputs": [],
   "source": [
    "from sklearn.decomposition import KernelPCA\n",
    "from sklearn.datasets import make_circles"
   ]
  },
  {
   "cell_type": "code",
   "execution_count": 2,
   "id": "d159428c",
   "metadata": {},
   "outputs": [
    {
     "name": "stdout",
     "output_type": "stream",
     "text": [
      "[[-0.02313275  0.15282194]\n",
      " [ 0.8626983   0.46556009]\n",
      " [ 0.05905661 -0.05048386]\n",
      " ...\n",
      " [-0.10071513 -0.1814104 ]\n",
      " [ 0.10461224  0.08710802]\n",
      " [ 0.28894733  0.97460534]]\n"
     ]
    }
   ],
   "source": [
    "# 선형적으로 구분되지 않는 데이터를 만듭니다.\n",
    "features, _ = make_circles(n_samples=1000, random_state=777, noise=0.1, factor=0.1)\n",
    "print(features)"
   ]
  },
  {
   "cell_type": "code",
   "execution_count": 3,
   "id": "8d04bb22",
   "metadata": {},
   "outputs": [],
   "source": [
    "# 방사 기저 함수(radius basis function RBF)를 사용하여 커널 PCA를 적용\n",
    "kpca = KernelPCA(kernel='rbf', gamma=15, n_components=1)"
   ]
  },
  {
   "cell_type": "code",
   "execution_count": 4,
   "id": "5261d8b2",
   "metadata": {},
   "outputs": [
    {
     "name": "stdout",
     "output_type": "stream",
     "text": [
      "원본 특성 개수 :  2\n",
      "줄어든 특성 개수 :  1\n"
     ]
    }
   ],
   "source": [
    "# Kernel rbf : 가우시안 RBF 커널\n",
    "features_kpca = kpca.fit_transform(features)\n",
    "print(\"원본 특성 개수 : \", features.shape[1])\n",
    "print(\"줄어든 특성 개수 : \", features_kpca.shape[1])"
   ]
  },
  {
   "cell_type": "code",
   "execution_count": null,
   "id": "3d25db6f",
   "metadata": {},
   "outputs": [],
   "source": []
  }
 ],
 "metadata": {
  "kernelspec": {
   "display_name": "Python 3 (ipykernel)",
   "language": "python",
   "name": "python3"
  },
  "language_info": {
   "codemirror_mode": {
    "name": "ipython",
    "version": 3
   },
   "file_extension": ".py",
   "mimetype": "text/x-python",
   "name": "python",
   "nbconvert_exporter": "python",
   "pygments_lexer": "ipython3",
   "version": "3.11.5"
  }
 },
 "nbformat": 4,
 "nbformat_minor": 5
}
