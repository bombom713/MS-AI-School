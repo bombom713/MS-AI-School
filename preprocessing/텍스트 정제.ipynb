{
 "cells": [
  {
   "cell_type": "code",
   "execution_count": 1,
   "id": "94a56286",
   "metadata": {},
   "outputs": [],
   "source": [
    "import re"
   ]
  },
  {
   "cell_type": "code",
   "execution_count": 4,
   "id": "8c550098",
   "metadata": {},
   "outputs": [],
   "source": [
    "# 텍스트 데이터 생성\n",
    "text_data = [\"모듈은 정규 표현식을 사용하여 문자열에서 패턴을 찾고 조작하는 데 사용되는 파이썬 내장 모듈입니다. !!!!!\",\n",
    "             \"정규 표현식은 문자열 내에서 특정 패턴의 문자열을 찾거나 대체하는 데 유용합니다.\",\n",
    "             \"예를 들어, 이메일 주소나 전화번호 등과 같은 특정 패턴을 찾거나 HTML 태그를 제거하는 등의 작업을 수행할 때 유용합니다. ??!??\"]"
   ]
  },
  {
   "cell_type": "code",
   "execution_count": 5,
   "id": "e0866fc1",
   "metadata": {},
   "outputs": [
    {
     "name": "stdout",
     "output_type": "stream",
     "text": [
      "['모듈은 정규 표현식을 사용하여 문자열에서 패턴을 찾고 조작하는 데 사용되는 파이썬 내장 모듈입니다. !!!!!', '정규 표현식은 문자열 내에서 특정 패턴의 문자열을 찾거나 대체하는 데 유용합니다.', '예를 들어, 이메일 주소나 전화번호 등과 같은 특정 패턴을 찾거나 HTML 태그를 제거하는 등의 작업을 수행할 때 유용합니다. ??!??']\n"
     ]
    }
   ],
   "source": [
    "# 공백문자 제거\n",
    "strip_whitespace = [string.strip() for string in text_data]\n",
    "print(strip_whitespace)"
   ]
  },
  {
   "cell_type": "code",
   "execution_count": 6,
   "id": "5bbee34d",
   "metadata": {},
   "outputs": [
    {
     "name": "stdout",
     "output_type": "stream",
     "text": [
      "['모듈은 정규 표현식을 사용하여 문자열에서 패턴을 찾고 조작하는 데 사용되는 파이썬 내장 모듈입니다 !!!!!', '정규 표현식은 문자열 내에서 특정 패턴의 문자열을 찾거나 대체하는 데 유용합니다', '예를 들어, 이메일 주소나 전화번호 등과 같은 특정 패턴을 찾거나 HTML 태그를 제거하는 등의 작업을 수행할 때 유용합니다 ??!??']\n"
     ]
    }
   ],
   "source": [
    "# 마침표 제거\n",
    "remove_periods = [string.replace(\".\",\"\") for string in strip_whitespace]\n",
    "print(remove_periods)"
   ]
  },
  {
   "cell_type": "code",
   "execution_count": 7,
   "id": "e3b9c763",
   "metadata": {},
   "outputs": [],
   "source": [
    "# 모든 유니코드 구두점을 키로하고 값은 None인 punctuation 딕셔너리를 만듭니다.\n",
    "# 문자열로부터 punctuation에 있는 모든 문자를 None으로 바꿉니다. > 이걸 삭제 효과로 봅니다.\n",
    "import sys\n",
    "import unicodedata"
   ]
  },
  {
   "cell_type": "code",
   "execution_count": 8,
   "id": "a3270de5",
   "metadata": {},
   "outputs": [
    {
     "name": "stdout",
     "output_type": "stream",
     "text": [
      "['모듈은 정규 표현식을 사용하여 문자열에서 패턴을 찾고 조작하는 데 사용되는 파이썬 내장 모듈입니다 ', '정규 표현식은 문자열 내에서 특정 패턴의 문자열을 찾거나 대체하는 데 유용합니다', '예를 들어 이메일 주소나 전화번호 등과 같은 특정 패턴을 찾거나 HTML 태그를 제거하는 등의 작업을 수행할 때 유용합니다 ']\n"
     ]
    }
   ],
   "source": [
    "punctuation = dict.fromkeys(i for i in range(sys.maxunicode) if unicodedata.category(chr(i)).startswith('P'))\n",
    "\n",
    "# 문자열의 구두점을 삭제합니다.\n",
    "data = [string.translate(punctuation) for string in text_data]\n",
    "print(data)"
   ]
  },
  {
   "cell_type": "code",
   "execution_count": 9,
   "id": "eeca654d",
   "metadata": {},
   "outputs": [],
   "source": [
    "# 텍스트 토큰화\n",
    "from nltk.tokenize import sent_tokenize\n",
    "from nltk.tokenize import word_tokenize\n",
    "import nltk"
   ]
  },
  {
   "cell_type": "code",
   "execution_count": 10,
   "id": "e0bf5611",
   "metadata": {},
   "outputs": [
    {
     "name": "stderr",
     "output_type": "stream",
     "text": [
      "[nltk_data] Downloading package punkt to\n",
      "[nltk_data]     C:\\Users\\bomi\\AppData\\Roaming\\nltk_data...\n",
      "[nltk_data]   Package punkt is already up-to-date!\n"
     ]
    },
    {
     "data": {
      "text/plain": [
       "True"
      ]
     },
     "execution_count": 10,
     "metadata": {},
     "output_type": "execute_result"
    }
   ],
   "source": [
    "# 구두점 데이터를 다운로드 합니다.\n",
    "nltk.download('punkt')"
   ]
  },
  {
   "cell_type": "code",
   "execution_count": 11,
   "id": "e410091f",
   "metadata": {},
   "outputs": [],
   "source": [
    "# 단어 생성 01\n",
    "string = \"모듈은 정규 표현식을 사용하여 문자열에서 패턴을 찾고 조작하는 데 사용되는 파이썬 내장 모듈입니다.\""
   ]
  },
  {
   "cell_type": "code",
   "execution_count": 12,
   "id": "fc1275e9",
   "metadata": {},
   "outputs": [
    {
     "name": "stdout",
     "output_type": "stream",
     "text": [
      "['모듈은', '정규', '표현식을', '사용하여', '문자열에서', '패턴을', '찾고', '조작하는', '데', '사용되는', '파이썬', '내장', '모듈입니다', '.']\n"
     ]
    }
   ],
   "source": [
    "# 단어를 토큰 기준으로 나눕니다.\n",
    "word_data = word_tokenize(string)\n",
    "print(word_data)"
   ]
  },
  {
   "cell_type": "code",
   "execution_count": 13,
   "id": "4dbdb59d",
   "metadata": {},
   "outputs": [
    {
     "name": "stdout",
     "output_type": "stream",
     "text": [
      "['모듈은 정규 표현식을 사용하여 문자열에서 패턴을 찾고 조작하는 데 사용되는 파이썬 내장 모듈입니다.', '정규 표현식은 문자열 내에서 특정 패턴의 문자열을 찾거나 대체하는 데 유용합니다.']\n"
     ]
    }
   ],
   "source": [
    "# 단어 생성 02\n",
    "sent_string = \"모듈은 정규 표현식을 사용하여 문자열에서 패턴을 찾고 조작하는 데 사용되는 파이썬 내장 모듈입니다. 정규 표현식은 문자열 내에서 특정 패턴의 문자열을 찾거나 대체하는 데 유용합니다.\"\n",
    "sent_data = sent_tokenize(sent_string)\n",
    "print(sent_data)"
   ]
  },
  {
   "cell_type": "code",
   "execution_count": 15,
   "id": "d0ba057d",
   "metadata": {},
   "outputs": [
    {
     "name": "stderr",
     "output_type": "stream",
     "text": [
      "[nltk_data] Downloading package stopwords to\n",
      "[nltk_data]     C:\\Users\\bomi\\AppData\\Roaming\\nltk_data...\n",
      "[nltk_data]   Package stopwords is already up-to-date!\n"
     ]
    },
    {
     "data": {
      "text/plain": [
       "True"
      ]
     },
     "execution_count": 15,
     "metadata": {},
     "output_type": "execute_result"
    }
   ],
   "source": [
    "# 불용어 삭제\n",
    "from nltk.corpus import stopwords\n",
    "# 불용어 데이터 다운로드\n",
    "nltk.download('stopwords')  "
   ]
  },
  {
   "cell_type": "code",
   "execution_count": 16,
   "id": "6b966b6e",
   "metadata": {},
   "outputs": [
    {
     "data": {
      "text/plain": [
       "['going', 'go', 'store', 'park']"
      ]
     },
     "execution_count": 16,
     "metadata": {},
     "output_type": "execute_result"
    }
   ],
   "source": [
    "# 단어 토큰 생성\n",
    "tokenized_words = ['i', 'am', 'going', 'to', 'go', 'to', 'the', 'store', 'and', 'park']\n",
    "\n",
    "stop_words = stopwords.words('english')\n",
    "[word for word in tokenized_words if word not in stop_words]  # 불용어 삭제"
   ]
  },
  {
   "cell_type": "code",
   "execution_count": 17,
   "id": "ee95f1d3",
   "metadata": {},
   "outputs": [
    {
     "name": "stdout",
     "output_type": "stream",
     "text": [
      "['i', 'me', 'my', 'myself', 'we']\n"
     ]
    }
   ],
   "source": [
    "# 불용어 확인\n",
    "stop_data = stop_words[:5]\n",
    "print(stop_data)"
   ]
  },
  {
   "cell_type": "code",
   "execution_count": 18,
   "id": "7bc391f1",
   "metadata": {},
   "outputs": [],
   "source": [
    "# 어간 추출\n",
    "from nltk.stem.porter import PorterStemmer"
   ]
  },
  {
   "cell_type": "code",
   "execution_count": 19,
   "id": "7e7ec27c",
   "metadata": {},
   "outputs": [],
   "source": [
    "# 단어 토큰 생성\n",
    "tokenized_words_temp = ['i', 'am', 'humbled', 'by', 'traditional', 'meeting']"
   ]
  },
  {
   "cell_type": "code",
   "execution_count": 20,
   "id": "f98336eb",
   "metadata": {},
   "outputs": [],
   "source": [
    "# 어간 추출기 생성\n",
    "porter = PorterStemmer()\n",
    "\n",
    "word_list_temp = []"
   ]
  },
  {
   "cell_type": "code",
   "execution_count": 22,
   "id": "d368cec4",
   "metadata": {},
   "outputs": [
    {
     "name": "stdout",
     "output_type": "stream",
     "text": [
      "['i', 'am', 'humbl', 'by', 'tradit', 'meet']\n"
     ]
    }
   ],
   "source": [
    "# 어간 추출기 적용\n",
    "for word in tokenized_words_temp:\n",
    "    word_list_temp.append(porter.stem(word))\n",
    "    \n",
    "print(word_list_temp)"
   ]
  },
  {
   "cell_type": "code",
   "execution_count": 23,
   "id": "f771c6f1",
   "metadata": {},
   "outputs": [],
   "source": [
    "# 품사 태깅\n",
    "import nltk\n",
    "from nltk import pos_tag\n",
    "from nltk import word_tokenize"
   ]
  },
  {
   "cell_type": "code",
   "execution_count": 24,
   "id": "d14882bd",
   "metadata": {},
   "outputs": [
    {
     "name": "stderr",
     "output_type": "stream",
     "text": [
      "[nltk_data] Downloading package averaged_perceptron_tagger to\n",
      "[nltk_data]     C:\\Users\\bomi\\AppData\\Roaming\\nltk_data...\n",
      "[nltk_data]   Unzipping taggers\\averaged_perceptron_tagger.zip.\n"
     ]
    },
    {
     "data": {
      "text/plain": [
       "True"
      ]
     },
     "execution_count": 24,
     "metadata": {},
     "output_type": "execute_result"
    }
   ],
   "source": [
    "# 태거 다운로드\n",
    "nltk.download(\"averaged_perceptron_tagger\")"
   ]
  },
  {
   "cell_type": "code",
   "execution_count": 25,
   "id": "baf48190",
   "metadata": {},
   "outputs": [],
   "source": [
    "# 샘플 텍스트 데이터\n",
    "text_data_tagger = \"Chris loved outdoor running\""
   ]
  },
  {
   "cell_type": "code",
   "execution_count": 26,
   "id": "28b71242",
   "metadata": {},
   "outputs": [
    {
     "name": "stdout",
     "output_type": "stream",
     "text": [
      "[('Chris', 'NNP'), ('loved', 'VBD'), ('outdoor', 'RP'), ('running', 'VBG')]\n"
     ]
    }
   ],
   "source": [
    "# 사전 훈련된 품사 태킹을 사용합니다.\n",
    "text_tagged = pos_tag(word_tokenize(text_data_tagger))\n",
    "# 단어와 품사 태그로 이루어진 튜플의 리스트 출력\n",
    "print(text_tagged)"
   ]
  },
  {
   "cell_type": "code",
   "execution_count": 27,
   "id": "a1b2e559",
   "metadata": {},
   "outputs": [],
   "source": [
    "# 단어 중요도에 가중치 부여하기\n",
    "import numpy as np\n",
    "from sklearn.feature_extraction.text import TfidfVectorizer"
   ]
  },
  {
   "cell_type": "code",
   "execution_count": 28,
   "id": "21f5902e",
   "metadata": {},
   "outputs": [],
   "source": [
    "text_data = np.array((['I love Brazil. Brazil !',\n",
    "                      'Sweden is best',\n",
    "                      'Germany beats both']))"
   ]
  },
  {
   "cell_type": "code",
   "execution_count": 30,
   "id": "8516a734",
   "metadata": {},
   "outputs": [],
   "source": [
    "# tf-idf 특성 행렬을 만듭니다.\n",
    "tfidf = TfidfVectorizer()\n",
    "feature_matrix = tfidf.fit_transform(text_data)"
   ]
  },
  {
   "cell_type": "code",
   "execution_count": 31,
   "id": "5095d14a",
   "metadata": {},
   "outputs": [
    {
     "data": {
      "text/plain": [
       "<3x8 sparse matrix of type '<class 'numpy.float64'>'\n",
       "\twith 8 stored elements in Compressed Sparse Row format>"
      ]
     },
     "execution_count": 31,
     "metadata": {},
     "output_type": "execute_result"
    }
   ],
   "source": [
    "#tf-idf 특성 행렬을 확인\n",
    "feature_matrix"
   ]
  },
  {
   "cell_type": "code",
   "execution_count": 32,
   "id": "92c1d844",
   "metadata": {},
   "outputs": [
    {
     "data": {
      "text/plain": [
       "array([[0.        , 0.        , 0.        , 0.89442719, 0.        ,\n",
       "        0.        , 0.4472136 , 0.        ],\n",
       "       [0.        , 0.57735027, 0.        , 0.        , 0.        ,\n",
       "        0.57735027, 0.        , 0.57735027],\n",
       "       [0.57735027, 0.        , 0.57735027, 0.        , 0.57735027,\n",
       "        0.        , 0.        , 0.        ]])"
      ]
     },
     "execution_count": 32,
     "metadata": {},
     "output_type": "execute_result"
    }
   ],
   "source": [
    "# tf-idf 특성 행렬을 밀집 배열로 확인\n",
    "feature_matrix.toarray()"
   ]
  },
  {
   "cell_type": "code",
   "execution_count": 33,
   "id": "2477c1c3",
   "metadata": {},
   "outputs": [
    {
     "name": "stdout",
     "output_type": "stream",
     "text": [
      "특성 확인  {'love': 6, 'brazil': 3, 'sweden': 7, 'is': 5, 'best': 1, 'germany': 4, 'beats': 0, 'both': 2}\n"
     ]
    }
   ],
   "source": [
    "# 특성 이름을 확인\n",
    "tf = tfidf.vocabulary_\n",
    "print(\"특성 확인 \", tf)"
   ]
  },
  {
   "cell_type": "markdown",
   "id": "fb124c6e",
   "metadata": {},
   "source": [
    "# Word Cloud"
   ]
  },
  {
   "cell_type": "code",
   "execution_count": 6,
   "id": "38ed51db",
   "metadata": {},
   "outputs": [],
   "source": [
    "import pytagcloud\n",
    "import webbrowser"
   ]
  },
  {
   "cell_type": "code",
   "execution_count": 7,
   "id": "a72745b4",
   "metadata": {},
   "outputs": [
    {
     "data": {
      "text/plain": [
       "True"
      ]
     },
     "execution_count": 7,
     "metadata": {},
     "output_type": "execute_result"
    }
   ],
   "source": [
    "tag = [('Hello', 100), ('World', 80), ('Python', 120), ('AI', 150), ('DB', 40), ('Kaggle', 55)]\n",
    "\n",
    "tag_list = pytagcloud.make_tags(tag, maxsize=50)  # tag화 시켜줌\n",
    "pytagcloud.create_tag_image(tag_list, 'word_cloud.jpg', size=(900,600), rectangular=False)\n",
    "\n",
    "webbrowser.open('word_cloud.jpg')"
   ]
  },
  {
   "cell_type": "code",
   "execution_count": 8,
   "id": "d42a0b5a",
   "metadata": {},
   "outputs": [],
   "source": [
    "from IPython.display import Image"
   ]
  },
  {
   "cell_type": "code",
   "execution_count": 9,
   "id": "c0d0a881",
   "metadata": {},
   "outputs": [
    {
     "data": {
      "image/jpeg": "[encoded data removed]",
      "text/plain": [
       "<IPython.core.display.Image object>"
      ]
     },
     "execution_count": 9,
     "metadata": {},
     "output_type": "execute_result"
    }
   ],
   "source": [
    "Image('./word_cloud.jpg')"
   ]
  },
  {
   "cell_type": "code",
   "execution_count": null,
   "id": "164cf6f3",
   "metadata": {},
   "outputs": [],
   "source": []
  }
 ],
 "metadata": {
  "kernelspec": {
   "display_name": "Python 3 (ipykernel)",
   "language": "python",
   "name": "python3"
  },
  "language_info": {
   "codemirror_mode": {
    "name": "ipython",
    "version": 3
   },
   "file_extension": ".py",
   "mimetype": "text/x-python",
   "name": "python",
   "nbconvert_exporter": "python",
   "pygments_lexer": "ipython3",
   "version": "3.11.5"
  }
 },
 "nbformat": 4,
 "nbformat_minor": 5
}
