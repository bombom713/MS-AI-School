{
 "cells": [
  {
   "cell_type": "markdown",
   "id": "5d17dfcd",
   "metadata": {},
   "source": [
    "# 인공신경망 - 경사 하강법을 이용한 선형 회귀 모델 구현 실습"
   ]
  },
  {
   "cell_type": "code",
   "execution_count": 1,
   "id": "da841703",
   "metadata": {},
   "outputs": [],
   "source": [
    "import numpy as np\n",
    "import matplotlib.pyplot as plt"
   ]
  },
  {
   "cell_type": "markdown",
   "id": "fae906c5",
   "metadata": {},
   "source": [
    "### 데이터, 타겟 데이터 생성 , y=2x + 1 관계를 따르는 데이터 생성"
   ]
  },
  {
   "cell_type": "code",
   "execution_count": 2,
   "id": "e1bd3c06",
   "metadata": {},
   "outputs": [],
   "source": [
    "x = np.array([1,2,3,4,5])\n",
    "y = np.array([3,5,7,9,11])"
   ]
  },
  {
   "cell_type": "markdown",
   "id": "b9021e11",
   "metadata": {},
   "source": [
    "### 모델 예측값과 실제값 사이의 오차를 계산하는 함수 정의 "
   ]
  },
  {
   "cell_type": "code",
   "execution_count": 3,
   "id": "54702382",
   "metadata": {},
   "outputs": [],
   "source": [
    "def compute_error(w0, w1, x, y) : \n",
    "    y_pred = w0 + w1 * x\n",
    "    error = y - y_pred\n",
    "    \n",
    "    return error"
   ]
  },
  {
   "cell_type": "markdown",
   "id": "7cb39b2f",
   "metadata": {},
   "source": [
    "### 경사 하강법을 수행하는 함수 정의 "
   ]
  },
  {
   "cell_type": "code",
   "execution_count": 4,
   "id": "bd5d98c3",
   "metadata": {},
   "outputs": [],
   "source": [
    "def gradient_descent(x, y, lr=0.05, iterations=1000): \n",
    "    n = len(x)\n",
    "    # w0 -> 절편 값 / w1 -> 기울기 값 \n",
    "    w0, w1 = 0, 0\n",
    "    \n",
    "    for i in range(iterations) : \n",
    "        error = compute_error(w0, w1, x, y)\n",
    "        w0 -= lr * (-2.0 / n) * np.sum(error) \n",
    "        w1 -= lr * (-2.0 / n) * np.sum(error * x)\n",
    "        \n",
    "    return w0, w1"
   ]
  },
  {
   "cell_type": "markdown",
   "id": "5e770a88",
   "metadata": {},
   "source": [
    "### 경사 하강법을 이용한 선형 회귀 모델 구현 시각화 "
   ]
  },
  {
   "cell_type": "code",
   "execution_count": 5,
   "id": "b944dc4b",
   "metadata": {},
   "outputs": [
    {
     "name": "stdout",
     "output_type": "stream",
     "text": [
      "0.9999999836757114 2.0000000045215662\n"
     ]
    }
   ],
   "source": [
    "# 모델 학습 \n",
    "w0, w1 = gradient_descent(x, y)\n",
    "print(w0, w1)"
   ]
  },
  {
   "cell_type": "code",
   "execution_count": 6,
   "id": "1dbe4a9c",
   "metadata": {},
   "outputs": [
    {
     "data": {
      "image/png": "[encoded data removed]",
      "text/plain": [
       "<Figure size 640x480 with 1 Axes>"
      ]
     },
     "metadata": {},
     "output_type": "display_data"
    }
   ],
   "source": [
    "plt.scatter(x, y)\n",
    "plt.plot(x, w0+w1 * x, color='red')\n",
    "plt.show()"
   ]
  },
  {
   "cell_type": "markdown",
   "id": "aa533e9a",
   "metadata": {},
   "source": [
    "# 다중 선형 - 실습 : 경사 하강법을 이용한 다중 선형 회귀 구현 "
   ]
  },
  {
   "cell_type": "code",
   "execution_count": 1,
   "id": "5c2b85f8",
   "metadata": {},
   "outputs": [],
   "source": [
    "import numpy as np "
   ]
  },
  {
   "cell_type": "markdown",
   "id": "b45e202c",
   "metadata": {},
   "source": [
    "### 데이터 생성"
   ]
  },
  {
   "cell_type": "code",
   "execution_count": 2,
   "id": "bc5d2fd2",
   "metadata": {},
   "outputs": [],
   "source": [
    "x1 = np.array([1,2,3,4,5])\n",
    "x2 = np.array([0,1,0,1,0])\n",
    "\n",
    "y = np.array([3,5,7,9,11])"
   ]
  },
  {
   "cell_type": "code",
   "execution_count": 3,
   "id": "428f89ee",
   "metadata": {},
   "outputs": [],
   "source": [
    "def gradient_descent(x1, x2, y, lr, iterations) : \n",
    "    \n",
    "    # 초기값 설정 \n",
    "    n = len(y)\n",
    "    bata_0 = 0 \n",
    "    bata_1 = 0\n",
    "    bata_2 = 0 \n",
    "    \n",
    "    # 경사하강법 수행 \n",
    "    for i in range(iterations) : \n",
    "        y_pred = bata_0 + bata_1 * x1 + bata_2 * x2\n",
    "        \n",
    "        error = y_pred - y # 수정 해주시고요 \n",
    "        \n",
    "        # 업데이트 \n",
    "        bata_0 -= lr * (1/n) * np.sum(error)\n",
    "        bata_1 -= lr * (1/n) * np.sum(error * x1)\n",
    "        bata_2 -= lr * (1/n) * np.sum(error * x2)\n",
    "        \n",
    "    return bata_0, bata_1 , bata_2\n",
    "        "
   ]
  },
  {
   "cell_type": "code",
   "execution_count": 4,
   "id": "4f5cc2cf",
   "metadata": {},
   "outputs": [
    {
     "name": "stdout",
     "output_type": "stream",
     "text": [
      "bata_0 >>  0.6329438095222969\n",
      "bata_1 >>  2.0787134098915354\n",
      "bata_2 >>  0.20466169435522205\n"
     ]
    }
   ],
   "source": [
    "bata_0, bata_1, bata_2 = gradient_descent(x1, x2, y, 0.1, 10)\n",
    "print(\"bata_0 >> \", bata_0)\n",
    "print(\"bata_1 >> \", bata_1)\n",
    "print(\"bata_2 >> \", bata_2)"
   ]
  },
  {
   "cell_type": "code",
   "execution_count": 5,
   "id": "7f8164ae",
   "metadata": {},
   "outputs": [
    {
     "name": "stdout",
     "output_type": "stream",
     "text": [
      "Predicted y value >>  6.8690840391969035\n"
     ]
    }
   ],
   "source": [
    "x1_new = 3\n",
    "x2_new = 0\n",
    "\n",
    "#### 예측 되어야하는 값 3 \n",
    "\n",
    "y_pred_temp = bata_0 + bata_1 * x1_new + bata_2 * x2_new\n",
    "\n",
    "print(\"Predicted y value >> \", y_pred_temp)"
   ]
  },
  {
   "cell_type": "code",
   "execution_count": null,
   "id": "4f9154cd",
   "metadata": {},
   "outputs": [],
   "source": []
  }
 ],
 "metadata": {
  "kernelspec": {
   "display_name": "AI",
   "language": "python",
   "name": "ai"
  },
  "language_info": {
   "codemirror_mode": {
    "name": "ipython",
    "version": 3
   },
   "file_extension": ".py",
   "mimetype": "text/x-python",
   "name": "python",
   "nbconvert_exporter": "python",
   "pygments_lexer": "ipython3",
   "version": "3.7.16"
  }
 },
 "nbformat": 4,
 "nbformat_minor": 5
}
