{
 "cells": [
  {
   "cell_type": "code",
   "execution_count": 1,
   "id": "2f55997e",
   "metadata": {},
   "outputs": [],
   "source": [
    "import torch\n",
    "import torch.nn as nn"
   ]
  },
  {
   "cell_type": "code",
   "execution_count": 2,
   "id": "0c9d7644",
   "metadata": {},
   "outputs": [],
   "source": [
    "class ANN(nn.Module):\n",
    "    def __init__(self, input_size, hidden_size, output_size):\n",
    "        '''\n",
    "        input_size: 입력층의 크기\n",
    "        hidden_size: 은닉층의 크기\n",
    "        output_size: 출력층의 크기\n",
    "        '''\n",
    "        \n",
    "        super(ANN, self).__init__()\n",
    "        # super(ANN, self) -> ANN의 상위 클래스를 호출한다고 명시함.\n",
    "        #                   -> 상속 단계가 2단계 이상일 때 의미가 있음.                            \n",
    "        # super() -> 부모 클래스가 한단계밖에 없는 경우 위와 완전히 동일한 역할이 됨.\n",
    "        self.fc1 = nn.Linear(input_size, hidden_size)\n",
    "        # nn.Linear(input_size, output_size) -> input_size: 이 층이 입력받을 크기\n",
    "        #                                   -> output_size: 이 층이 출력할 크기\n",
    "        self.relu = nn.ReLU()\n",
    "        self.fc2 = nn.Linear(hidden_size, output_size)\n",
    "\n",
    "    def forward(self, x):\n",
    "        # x: 입력값\n",
    "        out_by_input_hidden = self.fc1(x)\n",
    "        # nn.Linear(input_size, hidden_size)로 정의된 계층에 x를 통과시킴\n",
    "        # -> 입력층 - 은닉층 연산 진행\n",
    "        out_by_relu = self.relu(out_by_input_hidden)\n",
    "        # 은닉층의 활성화 함수 적용\n",
    "        out_by_hidden_output = self.fc2(out_by_relu)\n",
    "        # 은닉층 - 출력층 연산 진행\n",
    "        return out_by_hidden_output"
   ]
  },
  {
   "cell_type": "code",
   "execution_count": 3,
   "id": "6d44ff63",
   "metadata": {},
   "outputs": [
    {
     "name": "stdout",
     "output_type": "stream",
     "text": [
      "Epoch 1 / 10 : Loss 2.3357\n",
      "Epoch 2 / 10 : Loss 2.3199\n",
      "Epoch 3 / 10 : Loss 2.3042\n",
      "Epoch 4 / 10 : Loss 2.2888\n",
      "Epoch 5 / 10 : Loss 2.2734\n",
      "Epoch 6 / 10 : Loss 2.2582\n",
      "Epoch 7 / 10 : Loss 2.2431\n",
      "Epoch 8 / 10 : Loss 2.2281\n",
      "Epoch 9 / 10 : Loss 2.2132\n",
      "Epoch 10 / 10 : Loss 2.1985\n"
     ]
    }
   ],
   "source": [
    "if __name__ == \"__main__\":\n",
    "    input_size = 784\n",
    "    hidden_size = 256\n",
    "    output_size = 10\n",
    "    # 임의로 지정된 수치\n",
    "\n",
    "    model = ANN(input_size, hidden_size, output_size)\n",
    "    # 정의한 인공신경망 모델의 생성\n",
    "\n",
    "    criterion = nn.CrossEntropyLoss()\n",
    "    # 손실 함수\n",
    "\n",
    "    learning_rate = 0.01\n",
    "    optimizer = torch.optim.SGD(model.parameters(), lr=learning_rate)\n",
    "    # 최적화 알고리즘 정의\n",
    "\n",
    "    inputs = torch.randn(100, input_size) # 임의로 생성된 100 x input_size 입력 데이터\n",
    "    labels = torch.randint(0, output_size, (100, )) # 100 크기의 라벨\n",
    "\n",
    "    num_epochs = 10\n",
    "    # 학습을 진행할 Epoch 횟수\n",
    "\n",
    "    for epoch in range(num_epochs):\n",
    "        outputs = model(inputs)\n",
    "        # ANN 클래스 객체인 model을 직접 호출하면 forward 함수를 내부적으로 호출하게 됨\n",
    "        # 순전파 진행\n",
    "\n",
    "        loss = criterion(outputs, labels)\n",
    "        # 실제 정답인 labels와 위에서 얻은 outputs 사이의 오차\n",
    "\n",
    "        optimizer.zero_grad()\n",
    "        loss.backward()\n",
    "        optimizer.step()\n",
    "        # 역전파 과정. \n",
    "        # 최적화 알고리즘에 오차를 적용하여 해당 값을 기준으로 내부 가중치를 업데이트하도록 함\n",
    "        \n",
    "        if (epoch+1) % 1 == 0:\n",
    "            print(f\"Epoch {epoch + 1} / {num_epochs} : Loss {loss.item():.4f}\")\n",
    "            # if 문은 Epoch n회당 1번만 로그를 출력하도록 지정하기 위함"
   ]
  },
  {
   "cell_type": "code",
   "execution_count": null,
   "id": "7f5c4c08",
   "metadata": {},
   "outputs": [],
   "source": []
  }
 ],
 "metadata": {
  "kernelspec": {
   "display_name": "Python 3 (ipykernel)",
   "language": "python",
   "name": "python3"
  },
  "language_info": {
   "codemirror_mode": {
    "name": "ipython",
    "version": 3
   },
   "file_extension": ".py",
   "mimetype": "text/x-python",
   "name": "python",
   "nbconvert_exporter": "python",
   "pygments_lexer": "ipython3",
   "version": "3.10.9"
  }
 },
 "nbformat": 4,
 "nbformat_minor": 5
}
