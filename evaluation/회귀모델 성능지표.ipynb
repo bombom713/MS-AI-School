{
 "cells": [
  {
   "cell_type": "markdown",
   "id": "3eab87f1",
   "metadata": {},
   "source": [
    "# 평균 절대오차 간단한 실습 코드 "
   ]
  },
  {
   "cell_type": "code",
   "execution_count": 1,
   "id": "daa22887",
   "metadata": {},
   "outputs": [],
   "source": [
    "import torch"
   ]
  },
  {
   "cell_type": "markdown",
   "id": "ad7364aa",
   "metadata": {},
   "source": [
    "### 예측값과 실제값을 입력받아서 MAE 계산하는 함수 "
   ]
  },
  {
   "cell_type": "code",
   "execution_count": 2,
   "id": "9c2a5628",
   "metadata": {},
   "outputs": [
    {
     "name": "stdout",
     "output_type": "stream",
     "text": [
      "MAE : 0.375\n"
     ]
    }
   ],
   "source": [
    "def calculate_mae(pred, target) : \n",
    "    mae = torch.mean(torch.abs(pred - target))\n",
    "    \n",
    "    return mae\n",
    "\n",
    "\n",
    "# 예시 데이터 \n",
    "pred = torch.tensor([3.1, 4.2, 2.8, 5.3])\n",
    "targets = torch.tensor([3.0, 4.0, 3.2, 4.5])\n",
    "\n",
    "# mae 계산 \n",
    "mae = calculate_mae(pred, targets)\n",
    "print(f\"MAE : {mae.item()}\")"
   ]
  },
  {
   "cell_type": "markdown",
   "id": "eeaf299d",
   "metadata": {},
   "source": [
    "### 평균 제곱 오차 구하기 "
   ]
  },
  {
   "cell_type": "code",
   "execution_count": 3,
   "id": "b0b26cc6",
   "metadata": {},
   "outputs": [
    {
     "name": "stdout",
     "output_type": "stream",
     "text": [
      "MSE : 0.21250006556510925\n"
     ]
    }
   ],
   "source": [
    "def calculate_mse(pred, target) : \n",
    "    mae = torch.mean((pred - target) ** 2)\n",
    "    \n",
    "    return mae\n",
    "\n",
    "\n",
    "# 예시 데이터 \n",
    "pred = torch.tensor([3.1, 4.2, 2.8, 5.3])\n",
    "targets = torch.tensor([3.0, 4.0, 3.2, 4.5])\n",
    "\n",
    "# mse 계산 \n",
    "mse = calculate_mse(pred, targets)\n",
    "print(f\"MSE : {mse.item()}\")"
   ]
  },
  {
   "cell_type": "markdown",
   "id": "df8fedda",
   "metadata": {},
   "source": [
    "### 평균 제곱근  오차 "
   ]
  },
  {
   "cell_type": "code",
   "execution_count": 4,
   "id": "d8a6779d",
   "metadata": {},
   "outputs": [
    {
     "name": "stdout",
     "output_type": "stream",
     "text": [
      "MSE : 0.4609772939799847\n"
     ]
    }
   ],
   "source": [
    "import math\n",
    "\n",
    "def calculate_rmse(pred, target) : \n",
    "    mse = torch.mean((pred - target) ** 2)\n",
    "    rmse = math.sqrt(mse)\n",
    "    \n",
    "    return rmse\n",
    "\n",
    "\n",
    "# 예시 데이터 \n",
    "pred = torch.tensor([3.1, 4.2, 2.8, 5.3])\n",
    "targets = torch.tensor([3.0, 4.0, 3.2, 4.5])\n",
    "\n",
    "# mse 계산 \n",
    "rmse = calculate_rmse(pred, targets)\n",
    "print(f\"MSE : {rmse}\")"
   ]
  },
  {
   "cell_type": "markdown",
   "id": "9a3e878b",
   "metadata": {},
   "source": [
    "### 평균 절대 비율 오차 "
   ]
  },
  {
   "cell_type": "code",
   "execution_count": 5,
   "id": "961d648e",
   "metadata": {},
   "outputs": [
    {
     "name": "stdout",
     "output_type": "stream",
     "text": [
      "MAPE : 13.715988159179688\n"
     ]
    }
   ],
   "source": [
    "def calculate_mape(pred, target) : \n",
    "    abs_errors = torch.abs(pred - target)\n",
    "    relative_errors = abs_errors / target\n",
    "    mape = torch.mean(relative_errors) * 100\n",
    "    \n",
    "    return mape\n",
    "\n",
    "# 예시 데이터 \n",
    "pred = torch.tensor([10.2, 15.4, 7.8, 9.1])\n",
    "targets = torch.tensor([12.0, 11.5, 8.1, 8.9])\n",
    "\n",
    "mape = calculate_mape(pred, targets) \n",
    "print(f\"MAPE : {mape.item()}\")"
   ]
  },
  {
   "cell_type": "code",
   "execution_count": null,
   "id": "2c7cc304",
   "metadata": {},
   "outputs": [],
   "source": []
  }
 ],
 "metadata": {
  "kernelspec": {
   "display_name": "AI",
   "language": "python",
   "name": "ai"
  },
  "language_info": {
   "codemirror_mode": {
    "name": "ipython",
    "version": 3
   },
   "file_extension": ".py",
   "mimetype": "text/x-python",
   "name": "python",
   "nbconvert_exporter": "python",
   "pygments_lexer": "ipython3",
   "version": "3.7.16"
  }
 },
 "nbformat": 4,
 "nbformat_minor": 5
}
