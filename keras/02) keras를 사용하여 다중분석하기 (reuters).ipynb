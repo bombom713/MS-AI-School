{
 "cells": [
  {
   "cell_type": "code",
   "execution_count": 1,
   "id": "2be52c17",
   "metadata": {},
   "outputs": [],
   "source": [
    "# 다중분석을 해봅시다. 로이터 기사 데이터를 가지고 옵니다.\n",
    "# 의미있는 단어로 나누는 과정을 토크나이제이션이라 하고 의미있는 단어는 토큰이라고 부릅니다.\n",
    "from keras.datasets import reuters\n",
    "(train_data, train_labels),(test_data, test_labels) = reuters.load_data(num_words=10000)  # 가장 빈도수가 높은 단어 10000개를 가지고 옵니다."
   ]
  },
  {
   "cell_type": "code",
   "execution_count": 2,
   "id": "d73eeb18",
   "metadata": {},
   "outputs": [
    {
     "name": "stdout",
     "output_type": "stream",
     "text": [
      "(8982,)\n",
      "(2246,)\n"
     ]
    }
   ],
   "source": [
    "print(train_data.shape)\n",
    "print(test_data.shape)"
   ]
  },
  {
   "cell_type": "code",
   "execution_count": 3,
   "id": "c5ab043d",
   "metadata": {},
   "outputs": [
    {
     "data": {
      "text/plain": [
       "[1,\n",
       " 2,\n",
       " 2,\n",
       " 8,\n",
       " 43,\n",
       " 10,\n",
       " 447,\n",
       " 5,\n",
       " 25,\n",
       " 207,\n",
       " 270,\n",
       " 5,\n",
       " 3095,\n",
       " 111,\n",
       " 16,\n",
       " 369,\n",
       " 186,\n",
       " 90,\n",
       " 67,\n",
       " 7,\n",
       " 89,\n",
       " 5,\n",
       " 19,\n",
       " 102,\n",
       " 6,\n",
       " 19,\n",
       " 124,\n",
       " 15,\n",
       " 90,\n",
       " 67,\n",
       " 84,\n",
       " 22,\n",
       " 482,\n",
       " 26,\n",
       " 7,\n",
       " 48,\n",
       " 4,\n",
       " 49,\n",
       " 8,\n",
       " 864,\n",
       " 39,\n",
       " 209,\n",
       " 154,\n",
       " 6,\n",
       " 151,\n",
       " 6,\n",
       " 83,\n",
       " 11,\n",
       " 15,\n",
       " 22,\n",
       " 155,\n",
       " 11,\n",
       " 15,\n",
       " 7,\n",
       " 48,\n",
       " 9,\n",
       " 4579,\n",
       " 1005,\n",
       " 504,\n",
       " 6,\n",
       " 258,\n",
       " 6,\n",
       " 272,\n",
       " 11,\n",
       " 15,\n",
       " 22,\n",
       " 134,\n",
       " 44,\n",
       " 11,\n",
       " 15,\n",
       " 16,\n",
       " 8,\n",
       " 197,\n",
       " 1245,\n",
       " 90,\n",
       " 67,\n",
       " 52,\n",
       " 29,\n",
       " 209,\n",
       " 30,\n",
       " 32,\n",
       " 132,\n",
       " 6,\n",
       " 109,\n",
       " 15,\n",
       " 17,\n",
       " 12]"
      ]
     },
     "execution_count": 3,
     "metadata": {},
     "output_type": "execute_result"
    }
   ],
   "source": [
    "train_data[0]  # 데이터를 보니 문자를 숫자로 벡터라이즈화 된 데이터입니다."
   ]
  },
  {
   "cell_type": "code",
   "execution_count": 4,
   "id": "6177025a",
   "metadata": {},
   "outputs": [],
   "source": [
    "import numpy as np\n",
    "\n",
    "def vectorize_sequences(sequences, dimension=10000):\n",
    "  results = np.zeros((len(sequences), dimension))\n",
    "\n",
    "  for i, sequence in enumerate(sequences):\n",
    "    results[i, sequence] = 1\n",
    "  \n",
    "  return results"
   ]
  },
  {
   "cell_type": "code",
   "execution_count": 5,
   "id": "6d79185a",
   "metadata": {},
   "outputs": [],
   "source": [
    "# 학습데이터와 테스트 데이터를 벡터라이즈화 해줍니다. \n",
    "x_train = vectorize_sequences(train_data)\n",
    "x_test=vectorize_sequences(test_data)"
   ]
  },
  {
   "cell_type": "code",
   "execution_count": 6,
   "id": "2b02cf61",
   "metadata": {},
   "outputs": [],
   "source": [
    "# 라벨 데이터는 원핫인코딩을 이용하여 카테고리 데이터로 전환해줍니다.\n",
    "from keras.utils.np_utils import to_categorical\n",
    "\n",
    "one_hot_train_labels = to_categorical(train_labels)\n",
    "one_hot_test_labels = to_categorical(test_labels)"
   ]
  },
  {
   "cell_type": "code",
   "execution_count": 7,
   "id": "037fdaa3",
   "metadata": {},
   "outputs": [],
   "source": [
    "# 신경망을 제작해봅시다.\n",
    "from keras import models\n",
    "from keras import layers\n",
    "\n",
    "model = models.Sequential()\n",
    "model.add(layers.Dense(64, activation='relu', input_shape=(10000, )))  # 레이어는 덴스레이어, 활성화함수는 ReLU, 입력되는 모양은 가로가 10000개이고 세로는모른다는 뜻 입니다.\n",
    "model.add(layers.Dense(64, activation='relu'))\n",
    "model.add(layers.Dense(46, activation='softmax'))  # 최종결과는 46개입니다. 그 중 1개가 선택됩니다."
   ]
  },
  {
   "cell_type": "code",
   "execution_count": 8,
   "id": "14dfb077",
   "metadata": {},
   "outputs": [],
   "source": [
    "model.compile(optimizer='rmsprop', loss='categorical_crossentropy', metrics=['accuracy'])"
   ]
  },
  {
   "cell_type": "code",
   "execution_count": 9,
   "id": "3237561a",
   "metadata": {},
   "outputs": [],
   "source": [
    "# 검증데이터를 쪼개봅시다.\n",
    "x_val = x_train[:1000]\n",
    "partial_x_train = x_train[1000:]\n",
    "y_val = one_hot_train_labels[:1000]\n",
    "partial_y_train = one_hot_train_labels[1000:]"
   ]
  },
  {
   "cell_type": "code",
   "execution_count": 10,
   "id": "b2531ea6",
   "metadata": {},
   "outputs": [
    {
     "name": "stdout",
     "output_type": "stream",
     "text": [
      "Epoch 1/20\n",
      "16/16 [==============================] - 1s 43ms/step - loss: 2.6036 - accuracy: 0.5254 - val_loss: 1.7895 - val_accuracy: 0.6320\n",
      "Epoch 2/20\n",
      "16/16 [==============================] - 0s 26ms/step - loss: 1.5154 - accuracy: 0.6863 - val_loss: 1.3694 - val_accuracy: 0.7050\n",
      "Epoch 3/20\n",
      "16/16 [==============================] - 1s 32ms/step - loss: 1.1797 - accuracy: 0.7516 - val_loss: 1.1934 - val_accuracy: 0.7410\n",
      "Epoch 4/20\n",
      "16/16 [==============================] - 0s 26ms/step - loss: 0.9718 - accuracy: 0.7959 - val_loss: 1.0905 - val_accuracy: 0.7750\n",
      "Epoch 5/20\n",
      "16/16 [==============================] - 0s 26ms/step - loss: 0.8153 - accuracy: 0.8259 - val_loss: 1.0279 - val_accuracy: 0.7800\n",
      "Epoch 6/20\n",
      "16/16 [==============================] - 1s 32ms/step - loss: 0.6826 - accuracy: 0.8515 - val_loss: 0.9758 - val_accuracy: 0.7870\n",
      "Epoch 7/20\n",
      "16/16 [==============================] - 1s 32ms/step - loss: 0.5783 - accuracy: 0.8760 - val_loss: 0.9487 - val_accuracy: 0.8050\n",
      "Epoch 8/20\n",
      "16/16 [==============================] - 0s 26ms/step - loss: 0.4894 - accuracy: 0.8999 - val_loss: 0.9068 - val_accuracy: 0.8080\n",
      "Epoch 9/20\n",
      "16/16 [==============================] - 0s 28ms/step - loss: 0.4154 - accuracy: 0.9133 - val_loss: 0.8900 - val_accuracy: 0.8130\n",
      "Epoch 10/20\n",
      "16/16 [==============================] - 0s 25ms/step - loss: 0.3553 - accuracy: 0.9260 - val_loss: 0.9121 - val_accuracy: 0.8010\n",
      "Epoch 11/20\n",
      "16/16 [==============================] - 0s 25ms/step - loss: 0.3049 - accuracy: 0.9349 - val_loss: 0.8791 - val_accuracy: 0.8130\n",
      "Epoch 12/20\n",
      "16/16 [==============================] - 0s 30ms/step - loss: 0.2711 - accuracy: 0.9411 - val_loss: 0.8847 - val_accuracy: 0.8130\n",
      "Epoch 13/20\n",
      "16/16 [==============================] - 1s 32ms/step - loss: 0.2356 - accuracy: 0.9460 - val_loss: 0.8906 - val_accuracy: 0.8140\n",
      "Epoch 14/20\n",
      "16/16 [==============================] - 1s 32ms/step - loss: 0.2122 - accuracy: 0.9496 - val_loss: 0.9023 - val_accuracy: 0.8170\n",
      "Epoch 15/20\n",
      "16/16 [==============================] - 1s 33ms/step - loss: 0.1900 - accuracy: 0.9509 - val_loss: 0.9551 - val_accuracy: 0.8040\n",
      "Epoch 16/20\n",
      "16/16 [==============================] - 1s 32ms/step - loss: 0.1785 - accuracy: 0.9533 - val_loss: 0.9028 - val_accuracy: 0.8130\n",
      "Epoch 17/20\n",
      "16/16 [==============================] - 1s 32ms/step - loss: 0.1643 - accuracy: 0.9543 - val_loss: 0.9341 - val_accuracy: 0.8070\n",
      "Epoch 18/20\n",
      "16/16 [==============================] - 0s 30ms/step - loss: 0.1521 - accuracy: 0.9572 - val_loss: 0.9081 - val_accuracy: 0.8150\n",
      "Epoch 19/20\n",
      "16/16 [==============================] - 1s 31ms/step - loss: 0.1456 - accuracy: 0.9558 - val_loss: 0.9808 - val_accuracy: 0.8040\n",
      "Epoch 20/20\n",
      "16/16 [==============================] - 0s 28ms/step - loss: 0.1361 - accuracy: 0.9563 - val_loss: 1.0499 - val_accuracy: 0.7890\n"
     ]
    }
   ],
   "source": [
    "# 학습을 시켜봅시다.\n",
    "history = model.fit(partial_x_train, partial_y_train, epochs=20, batch_size=512, validation_data=(x_val, y_val))"
   ]
  },
  {
   "cell_type": "code",
   "execution_count": 11,
   "id": "be3c07be",
   "metadata": {},
   "outputs": [],
   "source": [
    "import matplotlib.pyplot as plt"
   ]
  },
  {
   "cell_type": "code",
   "execution_count": 12,
   "id": "c619d381",
   "metadata": {},
   "outputs": [],
   "source": [
    "loss = history.history['loss']\n",
    "val_loss = history.history['val_loss']\n",
    "acc = history.history['accuracy']\n",
    "val_acc = history.history['val_accuracy']"
   ]
  },
  {
   "cell_type": "code",
   "execution_count": 13,
   "id": "3994f4c0",
   "metadata": {},
   "outputs": [
    {
     "data": {
      "text/plain": [
       "<matplotlib.legend.Legend at 0x2048b673400>"
      ]
     },
     "execution_count": 13,
     "metadata": {},
     "output_type": "execute_result"
    },
    {
     "data": {
      "image/png": "[encoded data removed]",
      "text/plain": [
       "<Figure size 640x480 with 1 Axes>"
      ]
     },
     "metadata": {},
     "output_type": "display_data"
    }
   ],
   "source": [
    "epochs = range(1, len(loss)+1)  # 반복횟수를 구합니다.\n",
    "\n",
    "# 이제 그려봅시다.\n",
    "plt.plot(epochs, loss, 'bo', label = 'Training loss')\n",
    "plt.plot(epochs, val_loss, 'r-', label = 'Validation loss')\n",
    "plt.title('Training and Validation Loss')\n",
    "plt.xlabel('Epochs')\n",
    "plt.ylabel('Loss')\n",
    "plt.legend()"
   ]
  },
  {
   "cell_type": "code",
   "execution_count": 14,
   "id": "817ddc1e",
   "metadata": {},
   "outputs": [
    {
     "data": {
      "text/plain": [
       "<matplotlib.legend.Legend at 0x2048d5c9120>"
      ]
     },
     "execution_count": 14,
     "metadata": {},
     "output_type": "execute_result"
    },
    {
     "data": {
      "image/png": "[encoded data removed]",
      "text/plain": [
       "<Figure size 640x480 with 1 Axes>"
      ]
     },
     "metadata": {},
     "output_type": "display_data"
    }
   ],
   "source": [
    "plt.plot(epochs, acc, 'bo', label = 'Training Accuracy')\n",
    "plt.plot(epochs, val_acc, 'r-', label = 'Validation Accuracy')\n",
    "plt.title('Training and Validation Accuracy')\n",
    "plt.xlabel('Epochs')\n",
    "plt.ylabel('Accuracy')\n",
    "plt.legend()"
   ]
  },
  {
   "cell_type": "code",
   "execution_count": 15,
   "id": "7eb8aad4",
   "metadata": {},
   "outputs": [],
   "source": [
    "# 검증된 최적화 횟수로 다시 학습시켜봅시다.\n",
    "model = models.Sequential()\n",
    "model.add(layers.Dense(64, activation='relu', input_shape=(10000, )))\n",
    "model.add(layers.Dense(64, activation='relu'))\n",
    "model.add(layers.Dense(46, activation='softmax'))"
   ]
  },
  {
   "cell_type": "code",
   "execution_count": 16,
   "id": "96a244b8",
   "metadata": {},
   "outputs": [],
   "source": [
    "model.compile(optimizer='rmsprop', loss='categorical_crossentropy', metrics=['accuracy'])"
   ]
  },
  {
   "cell_type": "code",
   "execution_count": 17,
   "id": "55e23d11",
   "metadata": {},
   "outputs": [
    {
     "name": "stdout",
     "output_type": "stream",
     "text": [
      "Epoch 1/11\n",
      "16/16 [==============================] - 1s 48ms/step - loss: 2.9198 - accuracy: 0.5005 - val_loss: 1.9550 - val_accuracy: 0.6220\n",
      "Epoch 2/11\n",
      "16/16 [==============================] - 1s 35ms/step - loss: 1.5855 - accuracy: 0.6807 - val_loss: 1.3577 - val_accuracy: 0.7080\n",
      "Epoch 3/11\n",
      "16/16 [==============================] - 0s 30ms/step - loss: 1.1659 - accuracy: 0.7527 - val_loss: 1.1709 - val_accuracy: 0.7520\n",
      "Epoch 4/11\n",
      "16/16 [==============================] - 1s 32ms/step - loss: 0.9542 - accuracy: 0.7938 - val_loss: 1.0804 - val_accuracy: 0.7570\n",
      "Epoch 5/11\n",
      "16/16 [==============================] - 0s 26ms/step - loss: 0.7982 - accuracy: 0.8272 - val_loss: 1.0118 - val_accuracy: 0.7760\n",
      "Epoch 6/11\n",
      "16/16 [==============================] - 0s 26ms/step - loss: 0.6739 - accuracy: 0.8538 - val_loss: 0.9798 - val_accuracy: 0.7880\n",
      "Epoch 7/11\n",
      "16/16 [==============================] - 0s 25ms/step - loss: 0.5749 - accuracy: 0.8753 - val_loss: 0.9437 - val_accuracy: 0.7880\n",
      "Epoch 8/11\n",
      "16/16 [==============================] - 1s 32ms/step - loss: 0.4833 - accuracy: 0.8998 - val_loss: 0.9179 - val_accuracy: 0.8010\n",
      "Epoch 9/11\n",
      "16/16 [==============================] - 0s 30ms/step - loss: 0.4150 - accuracy: 0.9134 - val_loss: 0.8925 - val_accuracy: 0.8190\n",
      "Epoch 10/11\n",
      "16/16 [==============================] - 0s 25ms/step - loss: 0.3519 - accuracy: 0.9255 - val_loss: 0.8904 - val_accuracy: 0.8110\n",
      "Epoch 11/11\n",
      "16/16 [==============================] - 0s 26ms/step - loss: 0.3059 - accuracy: 0.9327 - val_loss: 0.8864 - val_accuracy: 0.8200\n",
      "71/71 [==============================] - 0s 3ms/step - loss: 0.9362 - accuracy: 0.7939\n",
      "[0.9361864924430847, 0.7938557267189026]\n"
     ]
    }
   ],
   "source": [
    "history = model.fit(partial_x_train, partial_y_train, epochs=11, batch_size=512, validation_data=(x_val, y_val))\n",
    "eval_result = model.evaluate(x_test, one_hot_test_labels)\n",
    "print(eval_result)"
   ]
  }
 ],
 "metadata": {
  "kernelspec": {
   "display_name": "Python 3 (ipykernel)",
   "language": "python",
   "name": "python3"
  },
  "language_info": {
   "codemirror_mode": {
    "name": "ipython",
    "version": 3
   },
   "file_extension": ".py",
   "mimetype": "text/x-python",
   "name": "python",
   "nbconvert_exporter": "python",
   "pygments_lexer": "ipython3",
   "version": "3.11.5"
  }
 },
 "nbformat": 4,
 "nbformat_minor": 5
}
