{
 "cells": [
  {
   "cell_type": "code",
   "execution_count": 1,
   "id": "d24bfed9",
   "metadata": {},
   "outputs": [],
   "source": [
    "import numpy as np\n",
    "from scipy import stats"
   ]
  },
  {
   "cell_type": "code",
   "execution_count": 2,
   "id": "e32b9070",
   "metadata": {},
   "outputs": [],
   "source": [
    "# 다음으로, 두 집단의 데이터를 생성합니다. 여기서는 랜덤하게 생성된 정규분포 데이터를 사용합니다.\n",
    "np.random.seed(42)\n",
    "\n",
    "# 모수 검정용 데이터 생성\n",
    "n = 100\n",
    "mu1, mu2 = 0, 0.5\n",
    "sigma = 1\n",
    "data1 = np.random.normal(mu1, sigma, n)\n",
    "data2 = np.random.normal(mu2, sigma, n)\n",
    "\n",
    "# 비모수 검정용 데이터 생성\n",
    "m =30\n",
    "data3 = np.random.uniform(0, 1, m)\n",
    "data4 = np.random.uniform(0.5, 1.5, m)"
   ]
  },
  {
   "cell_type": "code",
   "execution_count": 4,
   "id": "415893c7",
   "metadata": {},
   "outputs": [
    {
     "name": "stdout",
     "output_type": "stream",
     "text": [
      "t_statistic: -4.755, p-value: 0.000\n"
     ]
    }
   ],
   "source": [
    "# 데이터 생성이 완료되었으면, 먼저 모수 검정을 실시해보겠습니다.\n",
    "# 모수 검정 후 t-test 검정을 실시합니다.\n",
    "t_stat, p_val = stats.ttest_ind(data1, data2)\n",
    "print(\"t_statistic: {:.3f}, p-value: {:.3f}\".format(t_stat, p_val))"
   ]
  },
  {
   "cell_type": "code",
   "execution_count": 5,
   "id": "d18817a1",
   "metadata": {},
   "outputs": [
    {
     "name": "stdout",
     "output_type": "stream",
     "text": [
      "U_statistic: 145.000, p-value: 0.000\n"
     ]
    }
   ],
   "source": [
    "# 비모수 검정\n",
    "u_stat, p_val = stats.mannwhitneyu(data3, data4)\n",
    "print(\"U_statistic: {:.3f}, p-value: {:.3f}\".format(u_stat, p_val))"
   ]
  },
  {
   "cell_type": "code",
   "execution_count": null,
   "id": "654b34bf",
   "metadata": {},
   "outputs": [],
   "source": []
  }
 ],
 "metadata": {
  "kernelspec": {
   "display_name": "AI",
   "language": "python",
   "name": "ai"
  },
  "language_info": {
   "codemirror_mode": {
    "name": "ipython",
    "version": 3
   },
   "file_extension": ".py",
   "mimetype": "text/x-python",
   "name": "python",
   "nbconvert_exporter": "python",
   "pygments_lexer": "ipython3",
   "version": "3.8.16"
  }
 },
 "nbformat": 4,
 "nbformat_minor": 5
}
