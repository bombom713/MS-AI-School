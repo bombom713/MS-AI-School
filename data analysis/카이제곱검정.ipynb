{
 "cells": [
  {
   "cell_type": "code",
   "execution_count": 1,
   "id": "5061b324",
   "metadata": {},
   "outputs": [],
   "source": [
    "import pandas as pd\n",
    "import numpy as np\n",
    "from scipy.stats import chi2_contingency"
   ]
  },
  {
   "cell_type": "code",
   "execution_count": 2,
   "id": "40c19fd5",
   "metadata": {},
   "outputs": [
    {
     "name": "stdout",
     "output_type": "stream",
     "text": [
      "p-value: 1.0000, 귀무가설 채택\n"
     ]
    }
   ],
   "source": [
    "# 가상의 데이터 생성\n",
    "data = {\n",
    "    'Gender': ['M', 'M', 'M', 'M', 'F', 'F', 'F', 'F'],\n",
    "    'Smoker': ['Yes', 'No', 'No', 'Yes', 'Yes', 'No', 'No', 'Yes'],\n",
    "    'Count': [20, 80, 40, 60, 40, 160, 80, 120]\n",
    "}\n",
    "df = pd.DataFrame(data)\n",
    "\n",
    "# 데이터프레임을 이용한 분할표 생성\n",
    "table = pd.pivot_table(df, values='Count', index='Gender', columns='Smoker')\n",
    "\n",
    "# chi-squre 검정 시행\n",
    "stat, p, dof, expected = chi2_contingency(table)\n",
    "alpha = 0.05\n",
    "\n",
    "# 유의 수준과 p-value 비교 후 귀무가설 기각여부 결정\n",
    "if p < alpha:\n",
    "    print(f\"p-value: {p:.4f}, 귀무가설 기각\")\n",
    "else:\n",
    "    print(f\"p-value: {p:.4f}, 귀무가설 채택\")"
   ]
  },
  {
   "cell_type": "code",
   "execution_count": null,
   "id": "440c8ae5",
   "metadata": {},
   "outputs": [],
   "source": []
  }
 ],
 "metadata": {
  "kernelspec": {
   "display_name": "AI",
   "language": "python",
   "name": "ai"
  },
  "language_info": {
   "codemirror_mode": {
    "name": "ipython",
    "version": 3
   },
   "file_extension": ".py",
   "mimetype": "text/x-python",
   "name": "python",
   "nbconvert_exporter": "python",
   "pygments_lexer": "ipython3",
   "version": "3.8.16"
  }
 },
 "nbformat": 4,
 "nbformat_minor": 5
}
