{
 "cells": [
  {
   "cell_type": "code",
   "execution_count": 1,
   "id": "79319a10",
   "metadata": {},
   "outputs": [],
   "source": [
    "import pandas as pd\n",
    "import numpy as np"
   ]
  },
  {
   "cell_type": "code",
   "execution_count": 2,
   "id": "9de6b558",
   "metadata": {},
   "outputs": [],
   "source": [
    "# 시계열 데이터 생성\n",
    "dates = pd.date_range(start='2023-01-01', periods=100, freq='D')\n",
    "values = np.random.randint(0, 100, size=100)"
   ]
  },
  {
   "cell_type": "code",
   "execution_count": 3,
   "id": "efb35d00",
   "metadata": {},
   "outputs": [
    {
     "name": "stdout",
     "output_type": "stream",
     "text": [
      "         Date  Value\n",
      "0  2023-01-01      8\n",
      "1  2023-01-02     37\n",
      "2  2023-01-03     40\n",
      "3  2023-01-04     44\n",
      "4  2023-01-05      1\n",
      "..        ...    ...\n",
      "95 2023-04-06     92\n",
      "96 2023-04-07     46\n",
      "97 2023-04-08     34\n",
      "98 2023-04-09     32\n",
      "99 2023-04-10     16\n",
      "\n",
      "[100 rows x 2 columns]\n"
     ]
    }
   ],
   "source": [
    "# 데이터프레임 생성\n",
    "data = pd.DataFrame({'Date' : dates, 'Value' : values})\n",
    "print(data)"
   ]
  },
  {
   "cell_type": "code",
   "execution_count": 5,
   "id": "0edc3a64",
   "metadata": {},
   "outputs": [],
   "source": [
    "# Min-Max 정규화 수행\n",
    "min_value = data['Value'].min()\n",
    "max_value = data['Value'].max()\n",
    "data['Value_Normalized'] = (data['Value'] - min_value) / (max_value - min_value)"
   ]
  },
  {
   "cell_type": "code",
   "execution_count": 6,
   "id": "3e3156d4",
   "metadata": {},
   "outputs": [
    {
     "name": "stdout",
     "output_type": "stream",
     "text": [
      "         Date  Value_Normalized\n",
      "0  2023-01-01          0.082474\n",
      "1  2023-01-02          0.381443\n",
      "2  2023-01-03          0.412371\n",
      "3  2023-01-04          0.453608\n",
      "4  2023-01-05          0.010309\n",
      "..        ...               ...\n",
      "95 2023-04-06          0.948454\n",
      "96 2023-04-07          0.474227\n",
      "97 2023-04-08          0.350515\n",
      "98 2023-04-09          0.329897\n",
      "99 2023-04-10          0.164948\n",
      "\n",
      "[100 rows x 2 columns]\n"
     ]
    }
   ],
   "source": [
    "# 정규화된 데이터 확인\n",
    "print(data[['Date', 'Value_Normalized']])"
   ]
  },
  {
   "cell_type": "code",
   "execution_count": null,
   "id": "7c893f0a",
   "metadata": {},
   "outputs": [],
   "source": []
  }
 ],
 "metadata": {
  "kernelspec": {
   "display_name": "AI",
   "language": "python",
   "name": "ai"
  },
  "language_info": {
   "codemirror_mode": {
    "name": "ipython",
    "version": 3
   },
   "file_extension": ".py",
   "mimetype": "text/x-python",
   "name": "python",
   "nbconvert_exporter": "python",
   "pygments_lexer": "ipython3",
   "version": "3.8.16"
  }
 },
 "nbformat": 4,
 "nbformat_minor": 5
}
