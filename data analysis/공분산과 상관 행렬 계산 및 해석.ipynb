{
 "cells": [
  {
   "cell_type": "code",
   "execution_count": 1,
   "id": "94ceb863",
   "metadata": {},
   "outputs": [],
   "source": [
    "import numpy as np"
   ]
  },
  {
   "cell_type": "code",
   "execution_count": 2,
   "id": "4bf6e7ef",
   "metadata": {},
   "outputs": [],
   "source": [
    "# 예시 데이터 생성\n",
    "x = np.array([1, 2, 3, 4, 5])  # 변수 x의 값\n",
    "y = np.array([2, 4, 6, 8, 10])  # 변수 y의 값\n",
    "z = np.array([3, 6, 9, 12, 15])  # 변수 z의 값"
   ]
  },
  {
   "cell_type": "code",
   "execution_count": 3,
   "id": "4d01db84",
   "metadata": {},
   "outputs": [
    {
     "name": "stdout",
     "output_type": "stream",
     "text": [
      "Covariance Matrix:\n",
      "[[ 2.5  5.   7.5]\n",
      " [ 5.  10.  15. ]\n",
      " [ 7.5 15.  22.5]]\n"
     ]
    }
   ],
   "source": [
    "# 공분산 계산\n",
    "cov_matrix = np.cov([x, y, z])\n",
    "print(\"Covariance Matrix:\")\n",
    "print(cov_matrix)"
   ]
  },
  {
   "cell_type": "code",
   "execution_count": 5,
   "id": "9e632efa",
   "metadata": {},
   "outputs": [
    {
     "name": "stdout",
     "output_type": "stream",
     "text": [
      "Correlation Matrix:\n",
      "[[1. 1. 1.]\n",
      " [1. 1. 1.]\n",
      " [1. 1. 1.]]\n"
     ]
    }
   ],
   "source": [
    "# 상관 행렬 계산\n",
    "cor_matrix = np.corrcoef([x, y, z])\n",
    "print(\"Correlation Matrix:\")\n",
    "print(cor_matrix)"
   ]
  },
  {
   "cell_type": "code",
   "execution_count": null,
   "id": "f95ac132",
   "metadata": {},
   "outputs": [],
   "source": []
  }
 ],
 "metadata": {
  "kernelspec": {
   "display_name": "AI",
   "language": "python",
   "name": "ai"
  },
  "language_info": {
   "codemirror_mode": {
    "name": "ipython",
    "version": 3
   },
   "file_extension": ".py",
   "mimetype": "text/x-python",
   "name": "python",
   "nbconvert_exporter": "python",
   "pygments_lexer": "ipython3",
   "version": "3.8.16"
  }
 },
 "nbformat": 4,
 "nbformat_minor": 5
}
