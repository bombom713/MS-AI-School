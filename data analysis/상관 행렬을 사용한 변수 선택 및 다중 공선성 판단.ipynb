{
 "cells": [
  {
   "cell_type": "code",
   "execution_count": 1,
   "id": "ac8181ec",
   "metadata": {},
   "outputs": [],
   "source": [
    "import numpy as np"
   ]
  },
  {
   "cell_type": "code",
   "execution_count": 2,
   "id": "61df3d85",
   "metadata": {},
   "outputs": [],
   "source": [
    "# 예시 데이터 생성\n",
    "x1 = np.array([1, 2, 3, 4, 5])  # 변수 x1의 값\n",
    "x2 = np.array([2, 4, 6, 8, 10])  # 변수 x2의 값\n",
    "x3 = np.array([3, 6, 9, 12, 15])  # 변수 x3의 값"
   ]
  },
  {
   "cell_type": "code",
   "execution_count": 3,
   "id": "9de5f8ab",
   "metadata": {},
   "outputs": [],
   "source": [
    "# 데이터 행렬 생성\n",
    "data = np.vstack([x1, x2, x3]).T"
   ]
  },
  {
   "cell_type": "code",
   "execution_count": 4,
   "id": "e6046e86",
   "metadata": {},
   "outputs": [],
   "source": [
    "# 상관 행렬 계산\n",
    "cor_matrix = np.corrcoef(data, rowvar=False)"
   ]
  },
  {
   "cell_type": "code",
   "execution_count": 5,
   "id": "3ed4a2e9",
   "metadata": {},
   "outputs": [
    {
     "name": "stdout",
     "output_type": "stream",
     "text": [
      "Correlation coefficients:\n",
      "[[1. 1. 1.]\n",
      " [1. 1. 1.]\n",
      " [1. 1. 1.]]\n"
     ]
    }
   ],
   "source": [
    "# 각 변수들 간의 상관 계수 출력\n",
    "print(\"Correlation coefficients:\")\n",
    "print(cor_matrix)"
   ]
  },
  {
   "cell_type": "code",
   "execution_count": 6,
   "id": "8630198c",
   "metadata": {},
   "outputs": [
    {
     "name": "stdout",
     "output_type": "stream",
     "text": [
      "Variables with high multicollinearity:\n",
      "Variable1 and Variable 2\n",
      "Variable1 and Variable 3\n",
      "Variable2 and Variable 3\n"
     ]
    }
   ],
   "source": [
    "# 다중공선성 판단\n",
    "threshold = 0.7  # 상관 계수의 임계값 설정\n",
    "\n",
    "print(\"Variables with high multicollinearity:\")\n",
    "for i in range(cor_matrix.shape[0]):\n",
    "    for j in range(i+1, cor_matrix.shape[1]):\n",
    "        if abs(cor_matrix[i, j]) > threshold:\n",
    "            print(f\"Variable{i+1} and Variable {j+1}\")"
   ]
  },
  {
   "cell_type": "code",
   "execution_count": null,
   "id": "108492a4",
   "metadata": {},
   "outputs": [],
   "source": []
  }
 ],
 "metadata": {
  "kernelspec": {
   "display_name": "AI",
   "language": "python",
   "name": "ai"
  },
  "language_info": {
   "codemirror_mode": {
    "name": "ipython",
    "version": 3
   },
   "file_extension": ".py",
   "mimetype": "text/x-python",
   "name": "python",
   "nbconvert_exporter": "python",
   "pygments_lexer": "ipython3",
   "version": "3.8.16"
  }
 },
 "nbformat": 4,
 "nbformat_minor": 5
}
