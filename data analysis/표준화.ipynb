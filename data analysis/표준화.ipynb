{
 "cells": [
  {
   "cell_type": "code",
   "execution_count": 3,
   "id": "37301e37",
   "metadata": {},
   "outputs": [],
   "source": [
    "import pandas as pd\n",
    "from sklearn.preprocessing import StandardScaler"
   ]
  },
  {
   "cell_type": "code",
   "execution_count": 4,
   "id": "c7e61c85",
   "metadata": {},
   "outputs": [],
   "source": [
    "# 시계열 데이터 생성\n",
    "dates = pd.date_range(start='2023-01-01', periods=100, freq='D')\n",
    "values = [10, 12, 11, 15, 9, 13, 8, 14, 10, 16] * 10"
   ]
  },
  {
   "cell_type": "code",
   "execution_count": 5,
   "id": "1b23bbef",
   "metadata": {},
   "outputs": [
    {
     "name": "stdout",
     "output_type": "stream",
     "text": [
      "         Date  Value\n",
      "0  2023-01-01     10\n",
      "1  2023-01-02     12\n",
      "2  2023-01-03     11\n",
      "3  2023-01-04     15\n",
      "4  2023-01-05      9\n",
      "..        ...    ...\n",
      "95 2023-04-06     13\n",
      "96 2023-04-07      8\n",
      "97 2023-04-08     14\n",
      "98 2023-04-09     10\n",
      "99 2023-04-10     16\n",
      "\n",
      "[100 rows x 2 columns]\n"
     ]
    }
   ],
   "source": [
    "# 데이터프레임 생성\n",
    "data = pd.DataFrame({'Date' : dates, 'Value' : values})\n",
    "print(data)"
   ]
  },
  {
   "cell_type": "code",
   "execution_count": 6,
   "id": "62063f3e",
   "metadata": {},
   "outputs": [],
   "source": [
    "# 표준화할 값 추출\n",
    "X = data['Value'].values.reshape(-1, 1)"
   ]
  },
  {
   "cell_type": "code",
   "execution_count": 7,
   "id": "99c77941",
   "metadata": {},
   "outputs": [],
   "source": [
    "# 표준화 적용\n",
    "scaler = StandardScaler()\n",
    "X_scaled = scaler.fit_transform(X)"
   ]
  },
  {
   "cell_type": "code",
   "execution_count": 8,
   "id": "46d56c47",
   "metadata": {},
   "outputs": [],
   "source": [
    "# 표준화된 값을 새로운 열로 추가\n",
    "data['Value_scaled'] = X_scaled"
   ]
  },
  {
   "cell_type": "code",
   "execution_count": 9,
   "id": "e75f83b7",
   "metadata": {},
   "outputs": [
    {
     "name": "stdout",
     "output_type": "stream",
     "text": [
      "0    -0.713746\n",
      "1     0.079305\n",
      "2    -0.317221\n",
      "3     1.268883\n",
      "4    -1.110272\n",
      "        ...   \n",
      "95    0.475831\n",
      "96   -1.506798\n",
      "97    0.872357\n",
      "98   -0.713746\n",
      "99    1.665408\n",
      "Name: Value_scaled, Length: 100, dtype: float64\n"
     ]
    }
   ],
   "source": [
    "# 표준화된 값 출력\n",
    "print(data['Value_scaled'])"
   ]
  },
  {
   "cell_type": "code",
   "execution_count": null,
   "id": "02897449",
   "metadata": {},
   "outputs": [],
   "source": []
  }
 ],
 "metadata": {
  "kernelspec": {
   "display_name": "AI",
   "language": "python",
   "name": "ai"
  },
  "language_info": {
   "codemirror_mode": {
    "name": "ipython",
    "version": 3
   },
   "file_extension": ".py",
   "mimetype": "text/x-python",
   "name": "python",
   "nbconvert_exporter": "python",
   "pygments_lexer": "ipython3",
   "version": "3.8.16"
  }
 },
 "nbformat": 4,
 "nbformat_minor": 5
}
