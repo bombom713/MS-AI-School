{
 "cells": [
  {
   "cell_type": "markdown",
   "id": "2fad5e39",
   "metadata": {},
   "source": [
    "# Numpy 원소의 정렬"
   ]
  },
  {
   "cell_type": "code",
   "execution_count": 1,
   "id": "a09f7553",
   "metadata": {},
   "outputs": [],
   "source": [
    "import numpy as np"
   ]
  },
  {
   "cell_type": "code",
   "execution_count": 2,
   "id": "bacf665f",
   "metadata": {},
   "outputs": [
    {
     "name": "stdout",
     "output_type": "stream",
     "text": [
      "[ 2  5 10 20 30]\n"
     ]
    }
   ],
   "source": [
    "# 오름차순 정렬\n",
    "array = np.array([5, 10, 20, 30, 2])\n",
    "array.sort()\n",
    "print(array)"
   ]
  },
  {
   "cell_type": "code",
   "execution_count": 3,
   "id": "40d4b775",
   "metadata": {},
   "outputs": [
    {
     "name": "stdout",
     "output_type": "stream",
     "text": [
      "[30 20 10  5  2]\n"
     ]
    }
   ],
   "source": [
    "# 내림차순 정렬\n",
    "print(array[::-1])"
   ]
  },
  {
   "cell_type": "code",
   "execution_count": 4,
   "id": "29843ee7",
   "metadata": {},
   "outputs": [
    {
     "name": "stdout",
     "output_type": "stream",
     "text": [
      "각 열을 기준으로 정렬 전 \n",
      " [[ 5 10 20 30  2]\n",
      " [ 7  3  5 62  6]]\n",
      "각 열을 기준으로 정렬 후 \n",
      " [[ 5  3  5 30  2]\n",
      " [ 7 10 20 62  6]]\n",
      "각 행을 기준으로 정렬 전 \n",
      " [[ 5 10 20 30  2]\n",
      " [ 7  3  5 62  6]]\n",
      "각 행을 기준으로 정렬 후 \n",
      " [[ 2  5 10 20 30]\n",
      " [ 3  5  6  7 62]]\n"
     ]
    }
   ],
   "source": [
    "# 각 열을 기준으로 정렬\n",
    "array = np.array([[5, 10, 20, 30, 2],[7, 3, 5, 62, 6]])\n",
    "org_array = array.copy()\n",
    "print(\"각 열을 기준으로 정렬 전 \\n\", array)\n",
    "\n",
    "array.sort(axis=0)\n",
    "print(\"각 열을 기준으로 정렬 후 \\n\", array)\n",
    "\n",
    "# 각 행을 기준으로 정렬\n",
    "print(\"각 행을 기준으로 정렬 전 \\n\", org_array)\n",
    "\n",
    "org_array.sort(axis=1)\n",
    "print(\"각 행을 기준으로 정렬 후 \\n\", org_array)"
   ]
  },
  {
   "cell_type": "markdown",
   "id": "4ee20bd9",
   "metadata": {},
   "source": [
    "# Numpy 균일한 간격으로 데이터 생성"
   ]
  },
  {
   "cell_type": "code",
   "execution_count": 5,
   "id": "26111746",
   "metadata": {},
   "outputs": [
    {
     "name": "stdout",
     "output_type": "stream",
     "text": [
      "[ 0.   2.5  5.   7.5 10. ]\n"
     ]
    }
   ],
   "source": [
    "# 균일한 간격으로 데이터 생성 : linspace [시작, 끝, 시작과 끝 사이에 몇 개의 데이터를 만들거냐]\n",
    "# 더미 데이터 생성하는 경우에 많이 사용됌\n",
    "array = np.linspace(0, 10, 5)\n",
    "print(array)"
   ]
  },
  {
   "cell_type": "markdown",
   "id": "72a8b707",
   "metadata": {},
   "source": [
    "# 난수의 재연 (실행 마다 결과 동일)"
   ]
  },
  {
   "cell_type": "code",
   "execution_count": 6,
   "id": "276bc60d",
   "metadata": {},
   "outputs": [
    {
     "name": "stdout",
     "output_type": "stream",
     "text": [
      "[[9 9 9]\n",
      " [3 5 6]]\n"
     ]
    }
   ],
   "source": [
    "np.random.seed(4444)\n",
    "print(np.random.randint(0, 10, (2, 3)))"
   ]
  },
  {
   "cell_type": "markdown",
   "id": "0e1219c1",
   "metadata": {},
   "source": [
    "# numpy 배열 객체 복사"
   ]
  },
  {
   "cell_type": "code",
   "execution_count": 8,
   "id": "696a8313",
   "metadata": {},
   "outputs": [
    {
     "name": "stdout",
     "output_type": "stream",
     "text": [
      "[99  1  2  3  4  5  6  7  8  9]\n",
      "[99  1  2  3  4  5  6  7  8  9]\n"
     ]
    }
   ],
   "source": [
    "array1 = np.arange(0, 10)\n",
    "array2 = array1\n",
    "\n",
    "array2[0] = 99\n",
    "\n",
    "print(array2)\n",
    "print(array1)\n",
    "# array1과 array2는 같은 주소임 그래서 array2를 수정할 시 array1도 변경됌"
   ]
  },
  {
   "cell_type": "code",
   "execution_count": 9,
   "id": "acba7fba",
   "metadata": {},
   "outputs": [
    {
     "name": "stdout",
     "output_type": "stream",
     "text": [
      "[0 1 2 3 4 5 6 7 8 9]\n",
      "[99  1  2  3  4  5  6  7  8  9]\n"
     ]
    }
   ],
   "source": [
    "# 위 현상을 해결하기 위해\n",
    "array3 = np.arange(0, 10)\n",
    "array4 = array3.copy()\n",
    "array4[0]=99\n",
    "\n",
    "print(array3)\n",
    "print(array4)"
   ]
  },
  {
   "cell_type": "markdown",
   "id": "7513b2fa",
   "metadata": {},
   "source": [
    "# numpy 중복된 원소 제거"
   ]
  },
  {
   "cell_type": "code",
   "execution_count": 10,
   "id": "ecc47f57",
   "metadata": {},
   "outputs": [
    {
     "name": "stdout",
     "output_type": "stream",
     "text": [
      "원소 값 :  [1 1 2 2 3 3 4]\n",
      "중복 원소 처리 :  [1 2 3 4]\n"
     ]
    }
   ],
   "source": [
    "array = np.array([1, 1, 2, 2, 3, 3, 4])\n",
    "print(\"원소 값 : \", array)\n",
    "temp = np.unique(array)\n",
    "print(\"중복 원소 처리 : \", temp)"
   ]
  },
  {
   "cell_type": "code",
   "execution_count": null,
   "id": "d470d072",
   "metadata": {},
   "outputs": [],
   "source": []
  }
 ],
 "metadata": {
  "kernelspec": {
   "display_name": "Python [conda env:base] *",
   "language": "python",
   "name": "conda-base-py"
  },
  "language_info": {
   "codemirror_mode": {
    "name": "ipython",
    "version": 3
   },
   "file_extension": ".py",
   "mimetype": "text/x-python",
   "name": "python",
   "nbconvert_exporter": "python",
   "pygments_lexer": "ipython3",
   "version": "3.12.7"
  }
 },
 "nbformat": 4,
 "nbformat_minor": 5
}
