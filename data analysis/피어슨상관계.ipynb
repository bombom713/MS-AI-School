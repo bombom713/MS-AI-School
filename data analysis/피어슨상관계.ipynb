{
 "cells": [
  {
   "cell_type": "code",
   "execution_count": 1,
   "id": "54590b0f",
   "metadata": {},
   "outputs": [],
   "source": [
    "import seaborn as sns"
   ]
  },
  {
   "cell_type": "code",
   "execution_count": 2,
   "id": "32fe21d1",
   "metadata": {},
   "outputs": [],
   "source": [
    "# load tips dataset\n",
    "tips = sns.load_dataset('tips')"
   ]
  },
  {
   "cell_type": "code",
   "execution_count": 3,
   "id": "e890eb7e",
   "metadata": {},
   "outputs": [
    {
     "name": "stdout",
     "output_type": "stream",
     "text": [
      "Pearson correlation coefficient:  0.6757341092113645\n"
     ]
    }
   ],
   "source": [
    "#calculate Pearson correlation coefficient between total_bill and tip\n",
    "corr = tips ['total_bill'].corr(tips['tip'], method='pearson')\n",
    "\n",
    "print('Pearson correlation coefficient: ', corr)"
   ]
  },
  {
   "cell_type": "code",
   "execution_count": null,
   "id": "d49e2765",
   "metadata": {},
   "outputs": [],
   "source": []
  }
 ],
 "metadata": {
  "kernelspec": {
   "display_name": "AI",
   "language": "python",
   "name": "ai"
  },
  "language_info": {
   "codemirror_mode": {
    "name": "ipython",
    "version": 3
   },
   "file_extension": ".py",
   "mimetype": "text/x-python",
   "name": "python",
   "nbconvert_exporter": "python",
   "pygments_lexer": "ipython3",
   "version": "3.8.16"
  }
 },
 "nbformat": 4,
 "nbformat_minor": 5
}
