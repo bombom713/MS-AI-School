{
 "cells": [
  {
   "cell_type": "code",
   "execution_count": 1,
   "id": "ae563add",
   "metadata": {},
   "outputs": [],
   "source": [
    "import numpy as np\n",
    "import pandas as pd\n",
    "from statsmodels.tsa.arima.model import ARIMA"
   ]
  },
  {
   "cell_type": "code",
   "execution_count": 2,
   "id": "ea89dc1c",
   "metadata": {},
   "outputs": [],
   "source": [
    "# 시계열 데이터 생성\n",
    "np.random.seed(0)\n",
    "n = 100  #데이터 포인트 수\n",
    "data = np.random.normal(0, 1, n)  # 시계열 데이터 생성"
   ]
  },
  {
   "cell_type": "code",
   "execution_count": 3,
   "id": "e4cde72d",
   "metadata": {},
   "outputs": [],
   "source": [
    "# 최적의 BIC, order 초기화\n",
    "best_bic = np.inf\n",
    "best_order = None"
   ]
  },
  {
   "cell_type": "code",
   "execution_count": 4,
   "id": "20016df5",
   "metadata": {},
   "outputs": [
    {
     "name": "stderr",
     "output_type": "stream",
     "text": [
      "C:\\Users\\bomi\\anaconda3\\envs\\AI\\lib\\site-packages\\statsmodels\\base\\model.py:607: ConvergenceWarning: Maximum Likelihood optimization failed to converge. Check mle_retvals\n",
      "  warnings.warn(\"Maximum Likelihood optimization failed to \"\n"
     ]
    }
   ],
   "source": [
    "# 모델 차수 탐색\n",
    "for p in range(3):\n",
    "    for d in range(2):\n",
    "        for q in range(3):\n",
    "            order = (p, d, q)\n",
    "            try:\n",
    "                model = ARIMA(data, order=order)\n",
    "                results = model.fit()\n",
    "                bic = results.bic\n",
    "                if bic < best_bic:\n",
    "                    best_bic = bic\n",
    "                    best_order = order\n",
    "            except:\n",
    "                continue"
   ]
  },
  {
   "cell_type": "code",
   "execution_count": 6,
   "id": "326f4aa8",
   "metadata": {},
   "outputs": [
    {
     "name": "stdout",
     "output_type": "stream",
     "text": [
      "Best BIC: 291.29585422078907\n",
      "Best Order: (0, 1, 1)\n"
     ]
    }
   ],
   "source": [
    "# 최적의 모델과 BIC 출력\n",
    "print(\"Best BIC:\", best_bic)\n",
    "print(\"Best Order:\", best_order)"
   ]
  },
  {
   "cell_type": "code",
   "execution_count": null,
   "id": "49c0d836",
   "metadata": {},
   "outputs": [],
   "source": []
  }
 ],
 "metadata": {
  "kernelspec": {
   "display_name": "AI",
   "language": "python",
   "name": "ai"
  },
  "language_info": {
   "codemirror_mode": {
    "name": "ipython",
    "version": 3
   },
   "file_extension": ".py",
   "mimetype": "text/x-python",
   "name": "python",
   "nbconvert_exporter": "python",
   "pygments_lexer": "ipython3",
   "version": "3.8.16"
  }
 },
 "nbformat": 4,
 "nbformat_minor": 5
}
