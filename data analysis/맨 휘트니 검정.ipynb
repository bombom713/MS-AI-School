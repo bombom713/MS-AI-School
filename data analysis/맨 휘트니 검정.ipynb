{
 "cells": [
  {
   "cell_type": "code",
   "execution_count": 7,
   "id": "ec3eb190",
   "metadata": {},
   "outputs": [],
   "source": [
    "import pandas as pd\n",
    "import seaborn as sns\n",
    "import matplotlib.pyplot as plt\n",
    "from scipy.stats import mannwhitneyu"
   ]
  },
  {
   "cell_type": "code",
   "execution_count": 8,
   "id": "6125838e",
   "metadata": {},
   "outputs": [],
   "source": [
    "data = {'group1': [3, 2, 5, 1, 4, 2, 6, 7, 9, 8],\n",
    "       'group2': [6, 4, 7, 2, 6, 3, 7, 9, 10, 11]}\n",
    "\n",
    "df = pd.DataFrame(data)\n",
    "df.to_csv('./Mann-Whitney-Test_sample_data.csv', index=False)"
   ]
  },
  {
   "cell_type": "code",
   "execution_count": 9,
   "id": "890b3764",
   "metadata": {},
   "outputs": [],
   "source": [
    "# 데이터 불러오기\n",
    "data = pd.read_csv('./Mann-Whitney-Test_sample_data.csv')"
   ]
  },
  {
   "cell_type": "code",
   "execution_count": 10,
   "id": "88f386fd",
   "metadata": {},
   "outputs": [],
   "source": [
    "# 두 집단 간의 차이 검정\n",
    "stat, p = mannwhitneyu(data['group1'], data['group2'])"
   ]
  },
  {
   "cell_type": "code",
   "execution_count": 11,
   "id": "9cb03c83",
   "metadata": {},
   "outputs": [
    {
     "name": "stdout",
     "output_type": "stream",
     "text": [
      "Statistic: 32.5\n",
      "p-value: 0.19622288836173518\n",
      "Same distribution (fail to reject H0)\n"
     ]
    }
   ],
   "source": [
    "# 결과 출력\n",
    "print('Statistic:', stat)\n",
    "print('p-value:', p)\n",
    "if p > 0.05:\n",
    "    print('Same distribution (fail to reject H0)')\n",
    "else:\n",
    "    print('Different distribution (reject H0)')"
   ]
  },
  {
   "cell_type": "code",
   "execution_count": 12,
   "id": "82ee1f65",
   "metadata": {},
   "outputs": [
    {
     "name": "stderr",
     "output_type": "stream",
     "text": [
      "C:\\Users\\bomi\\anaconda3\\envs\\AI\\lib\\site-packages\\seaborn\\categorical.py:166: FutureWarning: Setting a gradient palette using color= is deprecated and will be removed in version 0.13. Set `palette='dark:.3'` for same effect.\n",
      "  warnings.warn(msg, FutureWarning)\n"
     ]
    },
    {
     "data": {
      "image/png": "[encoded data removed]",
      "text/plain": [
       "<Figure size 640x480 with 1 Axes>"
      ]
     },
     "metadata": {},
     "output_type": "display_data"
    }
   ],
   "source": [
    "# 검정 결과 시각화\n",
    "sns.boxplot(data=data[['group1', 'group2']], palette=\"Set3\")\n",
    "sns.stripplot(data=data[['group1', 'group2']], color='.3', size=4)\n",
    "sns.despine(trim=True)\n",
    "if p > 0.05:\n",
    "    plt.title('Mann-Whitney test\\nSame distribution\\np-value=%.3f' % (p))\n",
    "else:\n",
    "    plt.title('Mann-Whitney test\\nDifferent distribution\\np-value=%.3f' % (p))\n",
    "plt.show()"
   ]
  },
  {
   "cell_type": "markdown",
   "id": "bbb04c84",
   "metadata": {},
   "source": [
    "### 맨 휘트니 검정의 등분선상 가정\n",
    "#### 레빈 검정(Levene's Test)"
   ]
  },
  {
   "cell_type": "code",
   "execution_count": 13,
   "id": "dccfb18c",
   "metadata": {},
   "outputs": [],
   "source": [
    "import pandas as pd\n",
    "from scipy.stats import levene"
   ]
  },
  {
   "cell_type": "code",
   "execution_count": 14,
   "id": "09d302a5",
   "metadata": {},
   "outputs": [
    {
     "name": "stdout",
     "output_type": "stream",
     "text": [
      "   group1  group2\n",
      "0       3       6\n",
      "1       2       4\n",
      "2       5       7\n",
      "3       1       2\n",
      "4       4       6\n",
      "5       2       3\n",
      "6       6       7\n",
      "7       7       9\n",
      "8       9      10\n",
      "9       8      11\n"
     ]
    }
   ],
   "source": [
    "# 데이터 불러오기\n",
    "data = pd.read_csv('./Mann-Whitney-Test_sample_data.csv')\n",
    "print(data)"
   ]
  },
  {
   "cell_type": "code",
   "execution_count": 15,
   "id": "50e273d0",
   "metadata": {},
   "outputs": [],
   "source": [
    "# 등분산성 검정\n",
    "stat, p = levene(data['group1'], data['group2'])"
   ]
  },
  {
   "cell_type": "code",
   "execution_count": 16,
   "id": "351f3648",
   "metadata": {},
   "outputs": [
    {
     "name": "stdout",
     "output_type": "stream",
     "text": [
      "Statistic: 0.0\n",
      "p-value: 1.0\n",
      "Homogeneous variance (fail to reject H0)\n"
     ]
    }
   ],
   "source": [
    "# 결과 출력\n",
    "print('Statistic:', stat)\n",
    "print('p-value:', p)\n",
    "if p > 0.05:\n",
    "    print('Homogeneous variance (fail to reject H0)')\n",
    "else:\n",
    "    print('Heterogeneous variance (reject H0)')"
   ]
  },
  {
   "cell_type": "markdown",
   "id": "a05e5330",
   "metadata": {},
   "source": [
    "#### 윌콕슨 맨 휘트니 검정 통계량 계산"
   ]
  },
  {
   "cell_type": "code",
   "execution_count": 17,
   "id": "826f4001",
   "metadata": {},
   "outputs": [],
   "source": [
    "from scipy.stats import mannwhitneyu"
   ]
  },
  {
   "cell_type": "code",
   "execution_count": 18,
   "id": "98f1ebb4",
   "metadata": {},
   "outputs": [],
   "source": [
    "# Example data\n",
    "group1 = [3, 2, 5, 1, 4, 2, 6, 7, 9, 8]\n",
    "group2 = [6, 4, 7, 2, 6, 3, 7, 9, 10, 11]"
   ]
  },
  {
   "cell_type": "code",
   "execution_count": 20,
   "id": "ecd16ac3",
   "metadata": {},
   "outputs": [
    {
     "name": "stdout",
     "output_type": "stream",
     "text": [
      "Mann-Whitney U statistic: 32.5\n",
      "p-value: 0.19622288836173518\n"
     ]
    }
   ],
   "source": [
    "# Calculate Mann-Whitney U statistic and p-value\n",
    "statistic, p_value = mannwhitneyu(group1, group2)\n",
    "\n",
    "print(\"Mann-Whitney U statistic:\", statistic)\n",
    "print(\"p-value:\", p_value)"
   ]
  },
  {
   "cell_type": "markdown",
   "id": "e04c2d65",
   "metadata": {},
   "source": [
    "#### 윌콕슨 맨 휘트니 통계량을 이용한 p-value 계산"
   ]
  },
  {
   "cell_type": "code",
   "execution_count": 21,
   "id": "9138df41",
   "metadata": {},
   "outputs": [],
   "source": [
    "import numpy as np\n",
    "import pandas as pd\n",
    "from scipy.stats import mannwhitneyu\n",
    "from scipy import stats"
   ]
  },
  {
   "cell_type": "code",
   "execution_count": 23,
   "id": "5057435e",
   "metadata": {},
   "outputs": [],
   "source": [
    "# 데이터 불러오기\n",
    "data = pd.read_csv('./Mann-Whitney-Test_sample_data.csv')"
   ]
  },
  {
   "cell_type": "code",
   "execution_count": 24,
   "id": "25801d98",
   "metadata": {},
   "outputs": [],
   "source": [
    "# 두 집단 간의 차이 검정\n",
    "stat, p = mannwhitneyu(data['group1'], data['group2'])"
   ]
  },
  {
   "cell_type": "code",
   "execution_count": 25,
   "id": "73dc8573",
   "metadata": {},
   "outputs": [],
   "source": [
    "# 두 집단의 크기 계산\n",
    "n1, n2 = len(data['group1']), len(data['group2'])"
   ]
  },
  {
   "cell_type": "code",
   "execution_count": 26,
   "id": "2fb346db",
   "metadata": {},
   "outputs": [],
   "source": [
    "# U 값이 클 때는 U 값 대신 (n1 * n2 - U) 값을 사용\n",
    "if stat > n1 * n2 / 2:\n",
    "    stat = n1 * n2 - stat"
   ]
  },
  {
   "cell_type": "code",
   "execution_count": 27,
   "id": "9f90d3f2",
   "metadata": {},
   "outputs": [
    {
     "name": "stdout",
     "output_type": "stream",
     "text": [
      "Mann-Whitney U statistic: 32.5\n",
      "p-value: 0.014019277113959953\n"
     ]
    }
   ],
   "source": [
    "# p-value 계산\n",
    "p_value = 2 * stats.norm.cdf(-abs(stat) / np.sqrt(n1 * n2 * (n1 + n2 + 1) / 12))\n",
    "\n",
    "print('Mann-Whitney U statistic:', stat)\n",
    "print('p-value:', p_value)"
   ]
  },
  {
   "cell_type": "markdown",
   "id": "c67ac48e",
   "metadata": {},
   "source": [
    "#### 맨 휘트니 검정 예시"
   ]
  },
  {
   "cell_type": "code",
   "execution_count": 28,
   "id": "9ac5da29",
   "metadata": {},
   "outputs": [],
   "source": [
    "import pandas as pd\n",
    "import numpy as np\n",
    "from scipy.stats import mannwhitneyu"
   ]
  },
  {
   "cell_type": "code",
   "execution_count": 29,
   "id": "efae26ab",
   "metadata": {},
   "outputs": [],
   "source": [
    "# 랜덤 데이터 생성\n",
    "np.random.seed(42)\n",
    "group1 = np.random.normal(loc=6, scale=1.5, size=100)\n",
    "group2 = np.random.normal(loc=7, scale=1.5, size=100)"
   ]
  },
  {
   "cell_type": "code",
   "execution_count": 30,
   "id": "74a62efb",
   "metadata": {},
   "outputs": [],
   "source": [
    "# csv 파일로 저장\n",
    "data = pd.DataFrame({'group1': group1, 'group2': group2})\n",
    "data.to_csv('./sleep_data.csv', index=False)"
   ]
  },
  {
   "cell_type": "code",
   "execution_count": 31,
   "id": "d8ad59ea",
   "metadata": {},
   "outputs": [],
   "source": [
    "# csv 데이터 읽기\n",
    "data = pd.read_csv('./sleep_data.csv')\n",
    "\n",
    "group1_data = data['group1']\n",
    "group2_data = data['group2']"
   ]
  },
  {
   "cell_type": "code",
   "execution_count": 32,
   "id": "615d41ad",
   "metadata": {},
   "outputs": [],
   "source": [
    "# 맨-휘트니 검정 수행\n",
    "stat, p_value = mannwhitneyu(group1_data, group2_data, alternative='two-sided')"
   ]
  },
  {
   "cell_type": "code",
   "execution_count": 33,
   "id": "cb04876a",
   "metadata": {},
   "outputs": [
    {
     "name": "stdout",
     "output_type": "stream",
     "text": [
      "Mann-Whitney U statistic: 2834.0\n",
      "p-value: 1.2154388166891524e-07\n"
     ]
    }
   ],
   "source": [
    "# 결과 출력\n",
    "print('Mann-Whitney U statistic:', stat)\n",
    "print('p-value:', p_value)"
   ]
  },
  {
   "cell_type": "code",
   "execution_count": 34,
   "id": "3ca1e5ce",
   "metadata": {},
   "outputs": [
    {
     "name": "stdout",
     "output_type": "stream",
     "text": [
      "두 집단 간에는 유의한 차이가 있습니다.\n"
     ]
    }
   ],
   "source": [
    "# 유의수준 0.05로 가설 검정\n",
    "if p_value < 0.05:\n",
    "    print('두 집단 간에는 유의한 차이가 있습니다.')\n",
    "else:\n",
    "    print('두 집단 간에는 유의한 차이가 없습니다.')"
   ]
  },
  {
   "cell_type": "code",
   "execution_count": null,
   "id": "6d37cf59",
   "metadata": {},
   "outputs": [],
   "source": []
  }
 ],
 "metadata": {
  "kernelspec": {
   "display_name": "AI",
   "language": "python",
   "name": "ai"
  },
  "language_info": {
   "codemirror_mode": {
    "name": "ipython",
    "version": 3
   },
   "file_extension": ".py",
   "mimetype": "text/x-python",
   "name": "python",
   "nbconvert_exporter": "python",
   "pygments_lexer": "ipython3",
   "version": "3.8.16"
  }
 },
 "nbformat": 4,
 "nbformat_minor": 5
}
