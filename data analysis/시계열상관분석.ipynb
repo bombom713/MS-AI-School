{
 "cells": [
  {
   "cell_type": "code",
   "execution_count": 20,
   "id": "4cfa9bd8",
   "metadata": {},
   "outputs": [],
   "source": [
    "import pandas as pd\n",
    "import random\n",
    "import os\n",
    "import numpy as np\n",
    "import seaborn as sns\n",
    "import matplotlib.pyplot as plt\n",
    "\n",
    "# 랜덤하게 각 주식의 가격 100개의 데이터 생성\n",
    "# 삼성데이터를 만들어 봅시다.\n",
    "dates = pd.date_range(start='2021-01-04', periods=100, freq='D')  # 시계열 데이터를 만들기 위해 시간형식의 값을 생성합니다.\n",
    "samsung_prices=[random.randint(80000,90000) for _ in range(100)]  # 값의 범위를 지정후 임의 값을 생성합니다.\n",
    "samsung_data = {'Date' : dates, '005930.KS' : samsung_prices}  # 현업에서는 딕셔너리 형태를 많이 사용합니다. 빠르기 때문입니다.\n",
    "samsung_df = pd.DataFrame(samsung_data)\n",
    "samsung_df.set_index('Date', inplace=True)\n",
    "\n",
    "# LG데이터를 만들어 봅시다.\n",
    "lg_prices=[random.randint(140000,160000) for _ in range(100)]\n",
    "lg_data = {'Date' : dates, '066570.KS' : lg_prices}\n",
    "lg_df = pd.DataFrame(lg_data)\n",
    "lg_df.set_index('Date', inplace=True)\n",
    "\n",
    "# 삼성과 LG 데이터를 합쳐봅시다,\n",
    "df = pd.concat([samsung_df, lg_df], axis=1)\n",
    "df = df.loc[:, ['005930.KS', '066570.KS']]\n",
    "df.columns = ['Samsung', 'LG']\n",
    "\n",
    "# 엑셀파일로 저장하기 위해 명령어를 실행할 때 마다 폴더를 생성하도록 설정합니다.\n",
    "os.makedirs(\"./\", exist_ok=True)  # 이미 폴더가 생성되어있어도 덮어씌우기 합니다.\n",
    "\n",
    "# 엑셀파일로 저장합시다.\n",
    "df.to_csv(\"./stock_price.csv\")"
   ]
  },
  {
   "cell_type": "code",
   "execution_count": 21,
   "id": "a3283413",
   "metadata": {},
   "outputs": [
    {
     "name": "stdout",
     "output_type": "stream",
     "text": [
      "             Samsung        LG\n",
      "Date                          \n",
      "2021-01-04       NaN       NaN\n",
      "2021-01-05  0.018094 -0.058787\n",
      "2021-01-06 -0.057141  0.013390\n",
      "2021-01-07  0.073317  0.044150\n",
      "2021-01-08  0.018087  0.016571\n",
      "...              ...       ...\n",
      "2021-04-09  0.044799  0.088191\n",
      "2021-04-10  0.007846 -0.064055\n",
      "2021-04-11 -0.081291  0.072147\n",
      "2021-04-12  0.020399 -0.063910\n",
      "2021-04-13 -0.038273 -0.002778\n",
      "\n",
      "[100 rows x 2 columns]\n"
     ]
    }
   ],
   "source": [
    "# 저장한 엑셀파일을 불러와 봅시다.\n",
    "df = pd.read_csv('./stock_price.csv')\n",
    "df['Date'] = pd.to_datetime(df['Date'])\n",
    "df.set_index('Date', inplace=True)\n",
    "\n",
    "# 삼성과 LG의 수익률을 계산해봅시다.\n",
    "returns = df.pct_change()  # 수익률 계산 모듈\n",
    "print(returns)  # 맨 앞에 있는 데이터는 비교할 대상이 없기 때문에 NULL 값이 뜹니다."
   ]
  },
  {
   "cell_type": "code",
   "execution_count": 22,
   "id": "08306cd5",
   "metadata": {},
   "outputs": [
    {
     "name": "stdout",
     "output_type": "stream",
     "text": [
      "          Samsung        LG\n",
      "Samsung  1.000000  0.170353\n",
      "LG       0.170353  1.000000\n"
     ]
    }
   ],
   "source": [
    "# 수익률 상관 계수를 계산해봅시다.\n",
    "corr_matrix = returns.corr()\n",
    "print(corr_matrix)"
   ]
  },
  {
   "cell_type": "code",
   "execution_count": 23,
   "id": "6579eab3",
   "metadata": {},
   "outputs": [
    {
     "data": {
      "image/png": "[encoded data removed]",
      "text/plain": [
       "<Figure size 640x480 with 2 Axes>"
      ]
     },
     "metadata": {},
     "output_type": "display_data"
    }
   ],
   "source": [
    "# 히트맵을 그려서 한 눈에 파악해봅시다.\n",
    "sns.heatmap(corr_matrix, annot=True, cmap='coolwarm')\n",
    "plt.show()"
   ]
  },
  {
   "cell_type": "code",
   "execution_count": null,
   "id": "9d9028ef",
   "metadata": {},
   "outputs": [],
   "source": []
  }
 ],
 "metadata": {
  "kernelspec": {
   "display_name": "AI",
   "language": "python",
   "name": "ai"
  },
  "language_info": {
   "codemirror_mode": {
    "name": "ipython",
    "version": 3
   },
   "file_extension": ".py",
   "mimetype": "text/x-python",
   "name": "python",
   "nbconvert_exporter": "python",
   "pygments_lexer": "ipython3",
   "version": "3.8.16"
  }
 },
 "nbformat": 4,
 "nbformat_minor": 5
}
